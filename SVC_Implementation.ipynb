{
  "nbformat": 4,
  "nbformat_minor": 0,
  "metadata": {
    "colab": {
      "provenance": [],
      "authorship_tag": "ABX9TyMJLlbxtFE6awAPGA20cu7z"
    },
    "kernelspec": {
      "name": "python3",
      "display_name": "Python 3"
    },
    "language_info": {
      "name": "python"
    }
  },
  "cells": [
    {
      "cell_type": "markdown",
      "source": [
        "# Support Vector Classifier Implementation"
      ],
      "metadata": {
        "id": "ibRGTP07OLCW"
      }
    },
    {
      "cell_type": "code",
      "source": [
        "import pandas as pd\n",
        "import numpy as np\n",
        "import seaborn as sns\n",
        "import matplotlib.pyplot as plt\n",
        "import seaborn as sns"
      ],
      "metadata": {
        "id": "btKUIRTzONMk"
      },
      "execution_count": 1,
      "outputs": []
    },
    {
      "cell_type": "code",
      "source": [
        "## Lets create synthetic data points\n",
        "\n",
        "from sklearn.datasets import make_classification"
      ],
      "metadata": {
        "id": "jxxwYEvrPr9l"
      },
      "execution_count": 2,
      "outputs": []
    },
    {
      "cell_type": "code",
      "source": [
        "# Create 2 features and 2 class (dependent variable)\n",
        "\n",
        "X,y=make_classification(n_samples=1000,n_features=2,n_classes=2,\n",
        "                        n_clusters_per_class=2,n_redundant=0)"
      ],
      "metadata": {
        "id": "REg5DXQtP4b_"
      },
      "execution_count": 3,
      "outputs": []
    },
    {
      "cell_type": "code",
      "source": [
        "X"
      ],
      "metadata": {
        "colab": {
          "base_uri": "https://localhost:8080/"
        },
        "id": "nEJ0npjuP5xY",
        "outputId": "32f23a05-6298-464d-f81e-b40fbd272678"
      },
      "execution_count": 4,
      "outputs": [
        {
          "output_type": "execute_result",
          "data": {
            "text/plain": [
              "array([[-0.86729358, -1.36381216],\n",
              "       [-1.78302477, -0.75052677],\n",
              "       [ 0.36395183, -1.57789392],\n",
              "       ...,\n",
              "       [-0.94226794,  1.56492363],\n",
              "       [ 1.29564016,  0.7424799 ],\n",
              "       [-0.97943473,  0.9384584 ]])"
            ]
          },
          "metadata": {},
          "execution_count": 4
        }
      ]
    },
    {
      "cell_type": "code",
      "source": [
        "X.shape"
      ],
      "metadata": {
        "colab": {
          "base_uri": "https://localhost:8080/"
        },
        "id": "6Z6Mw76hRogH",
        "outputId": "1867ce9b-9266-456a-a93d-dbf34fdbf00b"
      },
      "execution_count": 5,
      "outputs": [
        {
          "output_type": "execute_result",
          "data": {
            "text/plain": [
              "(1000, 2)"
            ]
          },
          "metadata": {},
          "execution_count": 5
        }
      ]
    },
    {
      "cell_type": "code",
      "source": [
        "y"
      ],
      "metadata": {
        "collapsed": true,
        "colab": {
          "base_uri": "https://localhost:8080/"
        },
        "id": "44GLxNIeRpM1",
        "outputId": "a0f005ad-f1ed-4db4-aa3d-020e0e6783ec"
      },
      "execution_count": 6,
      "outputs": [
        {
          "output_type": "execute_result",
          "data": {
            "text/plain": [
              "array([0, 0, 0, 1, 0, 1, 1, 1, 1, 0, 0, 0, 1, 0, 0, 1, 0, 0, 0, 1, 1, 0,\n",
              "       1, 1, 1, 1, 0, 0, 1, 1, 1, 1, 1, 1, 0, 0, 1, 0, 1, 1, 0, 0, 0, 1,\n",
              "       1, 0, 1, 1, 1, 0, 0, 0, 0, 1, 0, 1, 0, 1, 0, 1, 0, 0, 0, 0, 0, 0,\n",
              "       1, 1, 0, 1, 0, 0, 0, 1, 1, 0, 0, 0, 0, 1, 1, 1, 0, 1, 1, 0, 0, 1,\n",
              "       1, 1, 0, 1, 0, 1, 1, 0, 0, 1, 1, 1, 0, 0, 0, 0, 1, 1, 0, 1, 0, 1,\n",
              "       1, 1, 1, 0, 0, 0, 1, 0, 1, 1, 1, 1, 1, 0, 0, 1, 1, 1, 1, 1, 1, 1,\n",
              "       0, 1, 0, 1, 0, 1, 1, 1, 1, 1, 0, 1, 1, 1, 1, 0, 1, 0, 0, 1, 0, 0,\n",
              "       0, 0, 0, 0, 1, 0, 1, 1, 1, 1, 1, 1, 1, 0, 0, 0, 1, 0, 1, 1, 1, 0,\n",
              "       1, 0, 0, 0, 0, 0, 0, 1, 0, 1, 0, 1, 0, 1, 1, 0, 0, 0, 1, 1, 0, 1,\n",
              "       1, 1, 1, 1, 0, 1, 0, 1, 1, 1, 0, 0, 1, 0, 0, 0, 0, 1, 1, 1, 0, 0,\n",
              "       1, 1, 0, 1, 0, 1, 0, 1, 0, 1, 1, 0, 1, 1, 1, 0, 0, 1, 0, 1, 0, 1,\n",
              "       1, 1, 1, 0, 1, 0, 1, 1, 0, 0, 0, 1, 0, 1, 0, 1, 1, 1, 1, 1, 1, 1,\n",
              "       1, 1, 0, 1, 0, 1, 0, 0, 1, 1, 0, 1, 0, 0, 0, 1, 1, 0, 1, 1, 1, 0,\n",
              "       0, 1, 0, 1, 1, 0, 1, 1, 0, 1, 1, 1, 0, 1, 0, 1, 1, 1, 1, 0, 0, 1,\n",
              "       1, 0, 1, 0, 0, 0, 1, 0, 0, 1, 0, 0, 1, 0, 0, 0, 0, 0, 0, 0, 0, 0,\n",
              "       1, 0, 1, 1, 0, 1, 1, 1, 0, 0, 1, 1, 0, 0, 0, 1, 1, 0, 1, 0, 1, 0,\n",
              "       0, 0, 1, 1, 0, 0, 1, 1, 1, 1, 0, 1, 0, 1, 1, 0, 1, 1, 0, 0, 0, 0,\n",
              "       1, 0, 1, 1, 1, 0, 1, 1, 1, 0, 1, 1, 0, 0, 0, 1, 0, 1, 1, 0, 0, 0,\n",
              "       1, 1, 1, 0, 1, 0, 1, 1, 1, 1, 0, 1, 0, 0, 1, 0, 0, 0, 1, 1, 1, 0,\n",
              "       1, 0, 1, 0, 0, 1, 1, 1, 0, 1, 0, 1, 1, 1, 0, 1, 1, 1, 0, 0, 1, 1,\n",
              "       1, 0, 1, 1, 0, 0, 0, 0, 0, 1, 0, 1, 1, 1, 0, 1, 0, 0, 0, 0, 0, 0,\n",
              "       1, 0, 1, 0, 0, 0, 1, 0, 0, 1, 1, 1, 1, 0, 0, 0, 0, 1, 1, 0, 0, 1,\n",
              "       1, 0, 1, 1, 1, 0, 0, 0, 1, 0, 1, 0, 1, 1, 0, 1, 0, 0, 0, 1, 0, 1,\n",
              "       0, 1, 1, 0, 0, 0, 0, 1, 0, 1, 0, 1, 1, 1, 0, 1, 0, 0, 0, 1, 0, 1,\n",
              "       1, 0, 1, 1, 0, 1, 1, 0, 1, 1, 1, 1, 1, 0, 1, 1, 0, 0, 1, 0, 0, 1,\n",
              "       1, 1, 0, 1, 1, 0, 1, 0, 1, 1, 1, 0, 1, 0, 1, 1, 1, 0, 0, 1, 1, 0,\n",
              "       0, 1, 1, 0, 0, 1, 0, 0, 0, 1, 0, 1, 1, 0, 1, 1, 1, 0, 0, 1, 1, 0,\n",
              "       1, 0, 0, 1, 1, 1, 0, 1, 1, 0, 1, 0, 0, 1, 1, 0, 1, 0, 0, 1, 0, 0,\n",
              "       0, 1, 1, 0, 0, 0, 0, 1, 0, 1, 1, 0, 0, 0, 0, 1, 1, 1, 0, 1, 0, 1,\n",
              "       0, 1, 0, 0, 1, 1, 1, 0, 0, 0, 0, 0, 0, 0, 0, 0, 0, 0, 0, 1, 0, 0,\n",
              "       1, 0, 0, 0, 0, 0, 1, 1, 1, 1, 1, 1, 0, 1, 0, 1, 1, 0, 1, 1, 1, 0,\n",
              "       0, 0, 0, 1, 1, 0, 0, 0, 0, 1, 1, 0, 1, 1, 1, 1, 1, 0, 0, 1, 1, 1,\n",
              "       0, 0, 1, 1, 0, 1, 0, 1, 0, 0, 1, 1, 0, 0, 0, 0, 0, 0, 0, 0, 1, 1,\n",
              "       0, 1, 0, 0, 0, 1, 1, 1, 0, 1, 0, 1, 1, 1, 1, 0, 0, 1, 1, 0, 1, 1,\n",
              "       0, 0, 0, 0, 1, 1, 0, 0, 0, 0, 1, 0, 0, 0, 1, 1, 0, 0, 0, 1, 1, 0,\n",
              "       1, 1, 0, 0, 0, 1, 1, 1, 1, 1, 0, 1, 0, 0, 0, 0, 1, 0, 0, 0, 0, 1,\n",
              "       0, 0, 0, 1, 1, 1, 1, 1, 1, 0, 0, 1, 0, 0, 1, 1, 0, 0, 0, 0, 1, 1,\n",
              "       0, 1, 0, 0, 1, 0, 0, 0, 0, 1, 1, 0, 1, 1, 0, 0, 1, 1, 0, 1, 0, 1,\n",
              "       0, 0, 1, 1, 1, 1, 0, 0, 1, 0, 0, 0, 0, 0, 0, 0, 1, 0, 0, 0, 0, 0,\n",
              "       1, 1, 1, 0, 1, 0, 0, 0, 0, 1, 1, 0, 1, 0, 1, 0, 1, 0, 0, 0, 0, 0,\n",
              "       1, 1, 1, 0, 0, 1, 1, 0, 1, 0, 0, 0, 1, 1, 0, 1, 0, 0, 0, 1, 1, 0,\n",
              "       0, 1, 1, 1, 0, 0, 0, 1, 1, 0, 1, 0, 1, 1, 1, 1, 1, 0, 0, 0, 1, 0,\n",
              "       1, 1, 1, 0, 1, 1, 0, 1, 1, 0, 0, 1, 1, 1, 0, 0, 0, 0, 1, 0, 0, 0,\n",
              "       0, 0, 1, 0, 1, 1, 0, 0, 1, 1, 0, 1, 1, 0, 1, 0, 0, 0, 1, 0, 1, 0,\n",
              "       0, 0, 1, 0, 1, 1, 0, 1, 1, 0, 1, 1, 1, 1, 1, 0, 1, 1, 1, 1, 1, 0,\n",
              "       0, 0, 1, 1, 0, 0, 0, 0, 1, 0])"
            ]
          },
          "metadata": {},
          "execution_count": 6
        }
      ]
    },
    {
      "cell_type": "code",
      "source": [
        "y.shape"
      ],
      "metadata": {
        "colab": {
          "base_uri": "https://localhost:8080/"
        },
        "id": "d058BxjYRqYr",
        "outputId": "0efdecc1-602c-4d57-a311-6927ddb61fbb"
      },
      "execution_count": 7,
      "outputs": [
        {
          "output_type": "execute_result",
          "data": {
            "text/plain": [
              "(1000,)"
            ]
          },
          "metadata": {},
          "execution_count": 7
        }
      ]
    },
    {
      "cell_type": "code",
      "source": [
        "pd.DataFrame(X)[0] # Creating the DataFrame with 0th index feature"
      ],
      "metadata": {
        "colab": {
          "base_uri": "https://localhost:8080/"
        },
        "id": "eJB_OWKARrLp",
        "outputId": "268b1e03-6459-4c5f-8dbb-738fbf9f70cd"
      },
      "execution_count": 8,
      "outputs": [
        {
          "output_type": "execute_result",
          "data": {
            "text/plain": [
              "0     -0.867294\n",
              "1     -1.783025\n",
              "2      0.363952\n",
              "3      1.084884\n",
              "4     -1.149430\n",
              "         ...   \n",
              "995   -1.473844\n",
              "996   -0.458479\n",
              "997   -0.942268\n",
              "998    1.295640\n",
              "999   -0.979435\n",
              "Name: 0, Length: 1000, dtype: float64"
            ]
          },
          "metadata": {},
          "execution_count": 8
        }
      ]
    },
    {
      "cell_type": "code",
      "source": [
        "sns.scatterplot(x=pd.DataFrame(X)[0],y=pd.DataFrame(X)[1],hue=y)"
      ],
      "metadata": {
        "colab": {
          "base_uri": "https://localhost:8080/",
          "height": 467
        },
        "id": "JHR_I1-NRu-m",
        "outputId": "cf70bed0-fc37-450c-acc7-8be1e4dcdbf7"
      },
      "execution_count": 9,
      "outputs": [
        {
          "output_type": "execute_result",
          "data": {
            "text/plain": [
              "<Axes: xlabel='0', ylabel='1'>"
            ]
          },
          "metadata": {},
          "execution_count": 9
        },
        {
          "output_type": "display_data",
          "data": {
            "text/plain": [
              "<Figure size 640x480 with 1 Axes>"
            ],
            "image/png": "[encoded data removed]"
          },
          "metadata": {}
        }
      ]
    },
    {
      "cell_type": "markdown",
      "source": [
        "# Implement the train test split"
      ],
      "metadata": {
        "id": "KbX1DmJcSAjw"
      }
    },
    {
      "cell_type": "code",
      "source": [
        "from sklearn.model_selection import train_test_split\n",
        "X_train,X_test,y_train,y_test=train_test_split(X,y,test_size=0.25,random_state=10)"
      ],
      "metadata": {
        "id": "ZRQq_7TxR6Yj"
      },
      "execution_count": 10,
      "outputs": []
    },
    {
      "cell_type": "markdown",
      "source": [
        "# Implement the SVC (Support Vector Classifier)"
      ],
      "metadata": {
        "id": "-hCshAz_SFZa"
      }
    },
    {
      "cell_type": "code",
      "source": [
        "from sklearn.svm import SVC"
      ],
      "metadata": {
        "id": "G7PS3hbtR9cd"
      },
      "execution_count": 11,
      "outputs": []
    },
    {
      "cell_type": "code",
      "source": [
        "svc=SVC(kernel='linear')"
      ],
      "metadata": {
        "id": "1sPL-8zKSPfC"
      },
      "execution_count": 12,
      "outputs": []
    },
    {
      "cell_type": "code",
      "source": [
        "svc.fit(X_train,y_train)"
      ],
      "metadata": {
        "colab": {
          "base_uri": "https://localhost:8080/",
          "height": 74
        },
        "id": "-EKYuFb4SQRe",
        "outputId": "beb7758c-3931-40e4-dc43-9474b3065fe2"
      },
      "execution_count": 13,
      "outputs": [
        {
          "output_type": "execute_result",
          "data": {
            "text/plain": [
              "SVC(kernel='linear')"
            ],
            "text/html": [
              "<style>#sk-container-id-1 {color: black;background-color: white;}#sk-container-id-1 pre{padding: 0;}#sk-container-id-1 div.sk-toggleable {background-color: white;}#sk-container-id-1 label.sk-toggleable__label {cursor: pointer;display: block;width: 100%;margin-bottom: 0;padding: 0.3em;box-sizing: border-box;text-align: center;}#sk-container-id-1 label.sk-toggleable__label-arrow:before {content: \"▸\";float: left;margin-right: 0.25em;color: #696969;}#sk-container-id-1 label.sk-toggleable__label-arrow:hover:before {color: black;}#sk-container-id-1 div.sk-estimator:hover label.sk-toggleable__label-arrow:before {color: black;}#sk-container-id-1 div.sk-toggleable__content {max-height: 0;max-width: 0;overflow: hidden;text-align: left;background-color: #f0f8ff;}#sk-container-id-1 div.sk-toggleable__content pre {margin: 0.2em;color: black;border-radius: 0.25em;background-color: #f0f8ff;}#sk-container-id-1 input.sk-toggleable__control:checked~div.sk-toggleable__content {max-height: 200px;max-width: 100%;overflow: auto;}#sk-container-id-1 input.sk-toggleable__control:checked~label.sk-toggleable__label-arrow:before {content: \"▾\";}#sk-container-id-1 div.sk-estimator input.sk-toggleable__control:checked~label.sk-toggleable__label {background-color: #d4ebff;}#sk-container-id-1 div.sk-label input.sk-toggleable__control:checked~label.sk-toggleable__label {background-color: #d4ebff;}#sk-container-id-1 input.sk-hidden--visually {border: 0;clip: rect(1px 1px 1px 1px);clip: rect(1px, 1px, 1px, 1px);height: 1px;margin: -1px;overflow: hidden;padding: 0;position: absolute;width: 1px;}#sk-container-id-1 div.sk-estimator {font-family: monospace;background-color: #f0f8ff;border: 1px dotted black;border-radius: 0.25em;box-sizing: border-box;margin-bottom: 0.5em;}#sk-container-id-1 div.sk-estimator:hover {background-color: #d4ebff;}#sk-container-id-1 div.sk-parallel-item::after {content: \"\";width: 100%;border-bottom: 1px solid gray;flex-grow: 1;}#sk-container-id-1 div.sk-label:hover label.sk-toggleable__label {background-color: #d4ebff;}#sk-container-id-1 div.sk-serial::before {content: \"\";position: absolute;border-left: 1px solid gray;box-sizing: border-box;top: 0;bottom: 0;left: 50%;z-index: 0;}#sk-container-id-1 div.sk-serial {display: flex;flex-direction: column;align-items: center;background-color: white;padding-right: 0.2em;padding-left: 0.2em;position: relative;}#sk-container-id-1 div.sk-item {position: relative;z-index: 1;}#sk-container-id-1 div.sk-parallel {display: flex;align-items: stretch;justify-content: center;background-color: white;position: relative;}#sk-container-id-1 div.sk-item::before, #sk-container-id-1 div.sk-parallel-item::before {content: \"\";position: absolute;border-left: 1px solid gray;box-sizing: border-box;top: 0;bottom: 0;left: 50%;z-index: -1;}#sk-container-id-1 div.sk-parallel-item {display: flex;flex-direction: column;z-index: 1;position: relative;background-color: white;}#sk-container-id-1 div.sk-parallel-item:first-child::after {align-self: flex-end;width: 50%;}#sk-container-id-1 div.sk-parallel-item:last-child::after {align-self: flex-start;width: 50%;}#sk-container-id-1 div.sk-parallel-item:only-child::after {width: 0;}#sk-container-id-1 div.sk-dashed-wrapped {border: 1px dashed gray;margin: 0 0.4em 0.5em 0.4em;box-sizing: border-box;padding-bottom: 0.4em;background-color: white;}#sk-container-id-1 div.sk-label label {font-family: monospace;font-weight: bold;display: inline-block;line-height: 1.2em;}#sk-container-id-1 div.sk-label-container {text-align: center;}#sk-container-id-1 div.sk-container {/* jupyter's `normalize.less` sets `[hidden] { display: none; }` but bootstrap.min.css set `[hidden] { display: none !important; }` so we also need the `!important` here to be able to override the default hidden behavior on the sphinx rendered scikit-learn.org. See: https://github.com/scikit-learn/scikit-learn/issues/21755 */display: inline-block !important;position: relative;}#sk-container-id-1 div.sk-text-repr-fallback {display: none;}</style><div id=\"sk-container-id-1\" class=\"sk-top-container\"><div class=\"sk-text-repr-fallback\"><pre>SVC(kernel=&#x27;linear&#x27;)</pre><b>In a Jupyter environment, please rerun this cell to show the HTML representation or trust the notebook. <br />On GitHub, the HTML representation is unable to render, please try loading this page with nbviewer.org.</b></div><div class=\"sk-container\" hidden><div class=\"sk-item\"><div class=\"sk-estimator sk-toggleable\"><input class=\"sk-toggleable__control sk-hidden--visually\" id=\"sk-estimator-id-1\" type=\"checkbox\" checked><label for=\"sk-estimator-id-1\" class=\"sk-toggleable__label sk-toggleable__label-arrow\">SVC</label><div class=\"sk-toggleable__content\"><pre>SVC(kernel=&#x27;linear&#x27;)</pre></div></div></div></div></div>"
            ]
          },
          "metadata": {},
          "execution_count": 13
        }
      ]
    },
    {
      "cell_type": "code",
      "source": [
        "svc.coef_            # Coefficient"
      ],
      "metadata": {
        "colab": {
          "base_uri": "https://localhost:8080/"
        },
        "id": "JRMLlc4xSRKy",
        "outputId": "0b9bef37-0616-48f3-960c-c7700bc515a6"
      },
      "execution_count": 14,
      "outputs": [
        {
          "output_type": "execute_result",
          "data": {
            "text/plain": [
              "array([[2.1655457 , 0.38197141]])"
            ]
          },
          "metadata": {},
          "execution_count": 14
        }
      ]
    },
    {
      "cell_type": "code",
      "source": [
        "## Prediction\n",
        "y_pred=svc.predict(X_test)"
      ],
      "metadata": {
        "id": "pvg9g2c4SSR9"
      },
      "execution_count": 15,
      "outputs": []
    },
    {
      "cell_type": "code",
      "source": [
        "y_pred"
      ],
      "metadata": {
        "colab": {
          "base_uri": "https://localhost:8080/"
        },
        "id": "vjWr9CsxSV4H",
        "outputId": "165d299f-ae42-4815-8ae9-b1eeed4e91f7"
      },
      "execution_count": 16,
      "outputs": [
        {
          "output_type": "execute_result",
          "data": {
            "text/plain": [
              "array([1, 0, 0, 1, 0, 1, 1, 0, 0, 1, 0, 0, 0, 0, 1, 0, 1, 0, 0, 1, 1, 0,\n",
              "       1, 0, 1, 0, 1, 1, 0, 1, 1, 0, 0, 1, 1, 0, 0, 0, 1, 0, 0, 0, 0, 1,\n",
              "       1, 0, 1, 0, 1, 1, 0, 1, 0, 1, 1, 1, 0, 0, 1, 1, 0, 0, 1, 1, 0, 1,\n",
              "       1, 1, 0, 1, 0, 0, 0, 0, 0, 1, 0, 0, 0, 1, 1, 0, 1, 1, 0, 1, 1, 0,\n",
              "       0, 1, 0, 1, 0, 0, 1, 0, 0, 0, 1, 1, 0, 1, 1, 0, 0, 0, 0, 1, 1, 1,\n",
              "       0, 0, 0, 1, 1, 0, 1, 0, 1, 1, 0, 1, 1, 0, 0, 0, 0, 1, 1, 0, 1, 1,\n",
              "       1, 0, 0, 1, 0, 1, 1, 1, 0, 1, 0, 0, 1, 0, 0, 1, 1, 1, 0, 1, 0, 0,\n",
              "       1, 0, 1, 0, 1, 1, 1, 0, 1, 0, 0, 0, 1, 0, 1, 0, 0, 0, 0, 0, 0, 1,\n",
              "       1, 1, 1, 0, 0, 0, 1, 1, 0, 0, 0, 0, 1, 0, 1, 0, 1, 0, 0, 0, 0, 1,\n",
              "       0, 0, 0, 1, 1, 0, 0, 1, 1, 1, 1, 1, 0, 0, 0, 1, 0, 1, 0, 0, 1, 0,\n",
              "       0, 0, 1, 0, 1, 0, 0, 1, 1, 1, 0, 1, 0, 1, 0, 1, 1, 0, 1, 0, 0, 1,\n",
              "       1, 0, 1, 1, 1, 1, 1, 1])"
            ]
          },
          "metadata": {},
          "execution_count": 16
        }
      ]
    },
    {
      "cell_type": "markdown",
      "source": [
        "# Confustion matrix, accuracy score, classification report"
      ],
      "metadata": {
        "id": "VOGh6RWeSYDw"
      }
    },
    {
      "cell_type": "code",
      "source": [
        "from sklearn.metrics import classification_report,confusion_matrix,accuracy_score"
      ],
      "metadata": {
        "id": "Iuq_EStMSW7l"
      },
      "execution_count": 17,
      "outputs": []
    },
    {
      "cell_type": "code",
      "source": [
        "print(classification_report(y_test,y_pred))"
      ],
      "metadata": {
        "colab": {
          "base_uri": "https://localhost:8080/"
        },
        "id": "166VrANdSf41",
        "outputId": "0c3c3cbf-ce4b-4b84-ca8b-c52c8cc51fc4"
      },
      "execution_count": 18,
      "outputs": [
        {
          "output_type": "stream",
          "name": "stdout",
          "text": [
            "              precision    recall  f1-score   support\n",
            "\n",
            "           0       0.94      0.94      0.94       130\n",
            "           1       0.93      0.93      0.93       120\n",
            "\n",
            "    accuracy                           0.94       250\n",
            "   macro avg       0.94      0.94      0.94       250\n",
            "weighted avg       0.94      0.94      0.94       250\n",
            "\n"
          ]
        }
      ]
    },
    {
      "cell_type": "code",
      "source": [
        "print(confusion_matrix(y_test,y_pred))"
      ],
      "metadata": {
        "colab": {
          "base_uri": "https://localhost:8080/"
        },
        "id": "jYhKD7-mSj8z",
        "outputId": "5482cbe3-ec2d-48e1-d65f-6ebd6f3e7070"
      },
      "execution_count": 19,
      "outputs": [
        {
          "output_type": "stream",
          "name": "stdout",
          "text": [
            "[[122   8]\n",
            " [  8 112]]\n"
          ]
        }
      ]
    },
    {
      "cell_type": "code",
      "source": [
        "print(accuracy_score(y_test,y_pred))"
      ],
      "metadata": {
        "colab": {
          "base_uri": "https://localhost:8080/"
        },
        "id": "huKEUAHQSlUi",
        "outputId": "ba70f632-753a-4e65-db0b-e70e4f723a17"
      },
      "execution_count": 20,
      "outputs": [
        {
          "output_type": "stream",
          "name": "stdout",
          "text": [
            "0.936\n"
          ]
        }
      ]
    },
    {
      "cell_type": "markdown",
      "source": [
        "# Hyperparametere Tuning With SVC"
      ],
      "metadata": {
        "id": "C220rlh7Smwn"
      }
    },
    {
      "cell_type": "code",
      "source": [
        "from sklearn.model_selection import GridSearchCV\n",
        "\n",
        "# defining parameter range\n",
        "param_grid = {'C': [0.1, 1, 10, 100, 1000],\n",
        "              'gamma': [1, 0.1, 0.01, 0.001, 0.0001],\n",
        "              'kernel':['linear']\n",
        "              }"
      ],
      "metadata": {
        "id": "MCaCfqy7SlyP"
      },
      "execution_count": 21,
      "outputs": []
    },
    {
      "cell_type": "code",
      "source": [
        "grid=GridSearchCV(SVC(),param_grid=param_grid,refit=True,cv=5,verbose=3)"
      ],
      "metadata": {
        "id": "4t0apshPSqTB"
      },
      "execution_count": 22,
      "outputs": []
    },
    {
      "cell_type": "code",
      "source": [
        "grid.fit(X_train,y_train)"
      ],
      "metadata": {
        "colab": {
          "base_uri": "https://localhost:8080/",
          "height": 1000
        },
        "id": "DedXXhnWSrhx",
        "outputId": "13f51c19-76f1-448a-955f-f246a3cf985f"
      },
      "execution_count": 23,
      "outputs": [
        {
          "output_type": "stream",
          "name": "stdout",
          "text": [
            "Fitting 5 folds for each of 25 candidates, totalling 125 fits\n",
            "[CV 1/5] END .....C=0.1, gamma=1, kernel=linear;, score=0.947 total time=   0.0s\n",
            "[CV 2/5] END .....C=0.1, gamma=1, kernel=linear;, score=0.960 total time=   0.0s\n",
            "[CV 3/5] END .....C=0.1, gamma=1, kernel=linear;, score=0.927 total time=   0.0s\n",
            "[CV 4/5] END .....C=0.1, gamma=1, kernel=linear;, score=0.953 total time=   0.0s\n",
            "[CV 5/5] END .....C=0.1, gamma=1, kernel=linear;, score=0.907 total time=   0.0s\n",
            "[CV 1/5] END ...C=0.1, gamma=0.1, kernel=linear;, score=0.947 total time=   0.0s\n",
            "[CV 2/5] END ...C=0.1, gamma=0.1, kernel=linear;, score=0.960 total time=   0.0s\n",
            "[CV 3/5] END ...C=0.1, gamma=0.1, kernel=linear;, score=0.927 total time=   0.0s\n",
            "[CV 4/5] END ...C=0.1, gamma=0.1, kernel=linear;, score=0.953 total time=   0.0s\n",
            "[CV 5/5] END ...C=0.1, gamma=0.1, kernel=linear;, score=0.907 total time=   0.0s\n",
            "[CV 1/5] END ..C=0.1, gamma=0.01, kernel=linear;, score=0.947 total time=   0.0s\n",
            "[CV 2/5] END ..C=0.1, gamma=0.01, kernel=linear;, score=0.960 total time=   0.0s\n",
            "[CV 3/5] END ..C=0.1, gamma=0.01, kernel=linear;, score=0.927 total time=   0.0s\n",
            "[CV 4/5] END ..C=0.1, gamma=0.01, kernel=linear;, score=0.953 total time=   0.0s\n",
            "[CV 5/5] END ..C=0.1, gamma=0.01, kernel=linear;, score=0.907 total time=   0.0s\n",
            "[CV 1/5] END .C=0.1, gamma=0.001, kernel=linear;, score=0.947 total time=   0.0s\n",
            "[CV 2/5] END .C=0.1, gamma=0.001, kernel=linear;, score=0.960 total time=   0.0s\n",
            "[CV 3/5] END .C=0.1, gamma=0.001, kernel=linear;, score=0.927 total time=   0.0s\n",
            "[CV 4/5] END .C=0.1, gamma=0.001, kernel=linear;, score=0.953 total time=   0.0s\n",
            "[CV 5/5] END .C=0.1, gamma=0.001, kernel=linear;, score=0.907 total time=   0.0s\n",
            "[CV 1/5] END C=0.1, gamma=0.0001, kernel=linear;, score=0.947 total time=   0.0s\n",
            "[CV 2/5] END C=0.1, gamma=0.0001, kernel=linear;, score=0.960 total time=   0.0s\n",
            "[CV 3/5] END C=0.1, gamma=0.0001, kernel=linear;, score=0.927 total time=   0.0s\n",
            "[CV 4/5] END C=0.1, gamma=0.0001, kernel=linear;, score=0.953 total time=   0.0s\n",
            "[CV 5/5] END C=0.1, gamma=0.0001, kernel=linear;, score=0.907 total time=   0.0s\n",
            "[CV 1/5] END .......C=1, gamma=1, kernel=linear;, score=0.947 total time=   0.0s\n",
            "[CV 2/5] END .......C=1, gamma=1, kernel=linear;, score=0.960 total time=   0.0s\n",
            "[CV 3/5] END .......C=1, gamma=1, kernel=linear;, score=0.927 total time=   0.0s\n",
            "[CV 4/5] END .......C=1, gamma=1, kernel=linear;, score=0.960 total time=   0.0s\n",
            "[CV 5/5] END .......C=1, gamma=1, kernel=linear;, score=0.907 total time=   0.0s\n",
            "[CV 1/5] END .....C=1, gamma=0.1, kernel=linear;, score=0.947 total time=   0.0s\n",
            "[CV 2/5] END .....C=1, gamma=0.1, kernel=linear;, score=0.960 total time=   0.0s\n",
            "[CV 3/5] END .....C=1, gamma=0.1, kernel=linear;, score=0.927 total time=   0.0s\n",
            "[CV 4/5] END .....C=1, gamma=0.1, kernel=linear;, score=0.960 total time=   0.0s\n",
            "[CV 5/5] END .....C=1, gamma=0.1, kernel=linear;, score=0.907 total time=   0.0s\n",
            "[CV 1/5] END ....C=1, gamma=0.01, kernel=linear;, score=0.947 total time=   0.0s\n",
            "[CV 2/5] END ....C=1, gamma=0.01, kernel=linear;, score=0.960 total time=   0.0s\n",
            "[CV 3/5] END ....C=1, gamma=0.01, kernel=linear;, score=0.927 total time=   0.0s\n",
            "[CV 4/5] END ....C=1, gamma=0.01, kernel=linear;, score=0.960 total time=   0.0s\n",
            "[CV 5/5] END ....C=1, gamma=0.01, kernel=linear;, score=0.907 total time=   0.0s\n",
            "[CV 1/5] END ...C=1, gamma=0.001, kernel=linear;, score=0.947 total time=   0.0s\n",
            "[CV 2/5] END ...C=1, gamma=0.001, kernel=linear;, score=0.960 total time=   0.0s\n",
            "[CV 3/5] END ...C=1, gamma=0.001, kernel=linear;, score=0.927 total time=   0.0s\n",
            "[CV 4/5] END ...C=1, gamma=0.001, kernel=linear;, score=0.960 total time=   0.0s\n",
            "[CV 5/5] END ...C=1, gamma=0.001, kernel=linear;, score=0.907 total time=   0.0s\n",
            "[CV 1/5] END ..C=1, gamma=0.0001, kernel=linear;, score=0.947 total time=   0.0s\n",
            "[CV 2/5] END ..C=1, gamma=0.0001, kernel=linear;, score=0.960 total time=   0.0s\n",
            "[CV 3/5] END ..C=1, gamma=0.0001, kernel=linear;, score=0.927 total time=   0.0s\n",
            "[CV 4/5] END ..C=1, gamma=0.0001, kernel=linear;, score=0.960 total time=   0.0s\n",
            "[CV 5/5] END ..C=1, gamma=0.0001, kernel=linear;, score=0.907 total time=   0.0s\n",
            "[CV 1/5] END ......C=10, gamma=1, kernel=linear;, score=0.947 total time=   0.0s\n",
            "[CV 2/5] END ......C=10, gamma=1, kernel=linear;, score=0.960 total time=   0.0s\n",
            "[CV 3/5] END ......C=10, gamma=1, kernel=linear;, score=0.927 total time=   0.0s\n",
            "[CV 4/5] END ......C=10, gamma=1, kernel=linear;, score=0.960 total time=   0.0s\n",
            "[CV 5/5] END ......C=10, gamma=1, kernel=linear;, score=0.907 total time=   0.0s\n",
            "[CV 1/5] END ....C=10, gamma=0.1, kernel=linear;, score=0.947 total time=   0.0s\n",
            "[CV 2/5] END ....C=10, gamma=0.1, kernel=linear;, score=0.960 total time=   0.0s\n",
            "[CV 3/5] END ....C=10, gamma=0.1, kernel=linear;, score=0.927 total time=   0.0s\n",
            "[CV 4/5] END ....C=10, gamma=0.1, kernel=linear;, score=0.960 total time=   0.0s\n",
            "[CV 5/5] END ....C=10, gamma=0.1, kernel=linear;, score=0.907 total time=   0.0s\n",
            "[CV 1/5] END ...C=10, gamma=0.01, kernel=linear;, score=0.947 total time=   0.0s\n",
            "[CV 2/5] END ...C=10, gamma=0.01, kernel=linear;, score=0.960 total time=   0.0s\n",
            "[CV 3/5] END ...C=10, gamma=0.01, kernel=linear;, score=0.927 total time=   0.0s\n",
            "[CV 4/5] END ...C=10, gamma=0.01, kernel=linear;, score=0.960 total time=   0.0s\n",
            "[CV 5/5] END ...C=10, gamma=0.01, kernel=linear;, score=0.907 total time=   0.0s\n",
            "[CV 1/5] END ..C=10, gamma=0.001, kernel=linear;, score=0.947 total time=   0.0s\n",
            "[CV 2/5] END ..C=10, gamma=0.001, kernel=linear;, score=0.960 total time=   0.0s\n",
            "[CV 3/5] END ..C=10, gamma=0.001, kernel=linear;, score=0.927 total time=   0.0s\n",
            "[CV 4/5] END ..C=10, gamma=0.001, kernel=linear;, score=0.960 total time=   0.0s\n",
            "[CV 5/5] END ..C=10, gamma=0.001, kernel=linear;, score=0.907 total time=   0.0s\n",
            "[CV 1/5] END .C=10, gamma=0.0001, kernel=linear;, score=0.947 total time=   0.0s\n",
            "[CV 2/5] END .C=10, gamma=0.0001, kernel=linear;, score=0.960 total time=   0.0s\n",
            "[CV 3/5] END .C=10, gamma=0.0001, kernel=linear;, score=0.927 total time=   0.0s\n",
            "[CV 4/5] END .C=10, gamma=0.0001, kernel=linear;, score=0.960 total time=   0.0s\n",
            "[CV 5/5] END .C=10, gamma=0.0001, kernel=linear;, score=0.907 total time=   0.0s\n",
            "[CV 1/5] END .....C=100, gamma=1, kernel=linear;, score=0.947 total time=   0.0s\n",
            "[CV 2/5] END .....C=100, gamma=1, kernel=linear;, score=0.960 total time=   0.1s\n",
            "[CV 3/5] END .....C=100, gamma=1, kernel=linear;, score=0.927 total time=   0.1s\n",
            "[CV 4/5] END .....C=100, gamma=1, kernel=linear;, score=0.960 total time=   0.1s\n",
            "[CV 5/5] END .....C=100, gamma=1, kernel=linear;, score=0.907 total time=   0.1s\n",
            "[CV 1/5] END ...C=100, gamma=0.1, kernel=linear;, score=0.947 total time=   0.1s\n",
            "[CV 2/5] END ...C=100, gamma=0.1, kernel=linear;, score=0.960 total time=   0.1s\n",
            "[CV 3/5] END ...C=100, gamma=0.1, kernel=linear;, score=0.927 total time=   0.0s\n",
            "[CV 4/5] END ...C=100, gamma=0.1, kernel=linear;, score=0.960 total time=   0.1s\n",
            "[CV 5/5] END ...C=100, gamma=0.1, kernel=linear;, score=0.907 total time=   0.1s\n",
            "[CV 1/5] END ..C=100, gamma=0.01, kernel=linear;, score=0.947 total time=   0.0s\n",
            "[CV 2/5] END ..C=100, gamma=0.01, kernel=linear;, score=0.960 total time=   0.0s\n",
            "[CV 3/5] END ..C=100, gamma=0.01, kernel=linear;, score=0.927 total time=   0.0s\n",
            "[CV 4/5] END ..C=100, gamma=0.01, kernel=linear;, score=0.960 total time=   0.1s\n",
            "[CV 5/5] END ..C=100, gamma=0.01, kernel=linear;, score=0.907 total time=   0.1s\n",
            "[CV 1/5] END .C=100, gamma=0.001, kernel=linear;, score=0.947 total time=   0.1s\n",
            "[CV 2/5] END .C=100, gamma=0.001, kernel=linear;, score=0.960 total time=   0.0s\n",
            "[CV 3/5] END .C=100, gamma=0.001, kernel=linear;, score=0.927 total time=   0.0s\n",
            "[CV 4/5] END .C=100, gamma=0.001, kernel=linear;, score=0.960 total time=   0.1s\n",
            "[CV 5/5] END .C=100, gamma=0.001, kernel=linear;, score=0.907 total time=   0.1s\n",
            "[CV 1/5] END C=100, gamma=0.0001, kernel=linear;, score=0.947 total time=   0.0s\n",
            "[CV 2/5] END C=100, gamma=0.0001, kernel=linear;, score=0.960 total time=   0.0s\n",
            "[CV 3/5] END C=100, gamma=0.0001, kernel=linear;, score=0.927 total time=   0.0s\n",
            "[CV 4/5] END C=100, gamma=0.0001, kernel=linear;, score=0.960 total time=   0.1s\n",
            "[CV 5/5] END C=100, gamma=0.0001, kernel=linear;, score=0.907 total time=   0.1s\n",
            "[CV 1/5] END ....C=1000, gamma=1, kernel=linear;, score=0.947 total time=   0.3s\n",
            "[CV 2/5] END ....C=1000, gamma=1, kernel=linear;, score=0.960 total time=   0.3s\n",
            "[CV 3/5] END ....C=1000, gamma=1, kernel=linear;, score=0.927 total time=   0.3s\n",
            "[CV 4/5] END ....C=1000, gamma=1, kernel=linear;, score=0.960 total time=   0.6s\n",
            "[CV 5/5] END ....C=1000, gamma=1, kernel=linear;, score=0.907 total time=   0.6s\n",
            "[CV 1/5] END ..C=1000, gamma=0.1, kernel=linear;, score=0.947 total time=   0.4s\n",
            "[CV 2/5] END ..C=1000, gamma=0.1, kernel=linear;, score=0.960 total time=   0.4s\n",
            "[CV 3/5] END ..C=1000, gamma=0.1, kernel=linear;, score=0.927 total time=   0.3s\n",
            "[CV 4/5] END ..C=1000, gamma=0.1, kernel=linear;, score=0.960 total time=   0.6s\n",
            "[CV 5/5] END ..C=1000, gamma=0.1, kernel=linear;, score=0.907 total time=   0.8s\n",
            "[CV 1/5] END .C=1000, gamma=0.01, kernel=linear;, score=0.947 total time=   0.2s\n",
            "[CV 2/5] END .C=1000, gamma=0.01, kernel=linear;, score=0.960 total time=   0.5s\n",
            "[CV 3/5] END .C=1000, gamma=0.01, kernel=linear;, score=0.927 total time=   0.6s\n",
            "[CV 4/5] END .C=1000, gamma=0.01, kernel=linear;, score=0.960 total time=   1.2s\n",
            "[CV 5/5] END .C=1000, gamma=0.01, kernel=linear;, score=0.907 total time=   0.9s\n",
            "[CV 1/5] END C=1000, gamma=0.001, kernel=linear;, score=0.947 total time=   0.2s\n",
            "[CV 2/5] END C=1000, gamma=0.001, kernel=linear;, score=0.960 total time=   0.6s\n",
            "[CV 3/5] END C=1000, gamma=0.001, kernel=linear;, score=0.927 total time=   0.4s\n",
            "[CV 4/5] END C=1000, gamma=0.001, kernel=linear;, score=0.960 total time=   0.7s\n",
            "[CV 5/5] END C=1000, gamma=0.001, kernel=linear;, score=0.907 total time=   0.6s\n",
            "[CV 1/5] END C=1000, gamma=0.0001, kernel=linear;, score=0.947 total time=   0.2s\n",
            "[CV 2/5] END C=1000, gamma=0.0001, kernel=linear;, score=0.960 total time=   0.2s\n",
            "[CV 3/5] END C=1000, gamma=0.0001, kernel=linear;, score=0.927 total time=   0.2s\n",
            "[CV 4/5] END C=1000, gamma=0.0001, kernel=linear;, score=0.960 total time=   0.6s\n",
            "[CV 5/5] END C=1000, gamma=0.0001, kernel=linear;, score=0.907 total time=   0.7s\n"
          ]
        },
        {
          "output_type": "execute_result",
          "data": {
            "text/plain": [
              "GridSearchCV(cv=5, estimator=SVC(),\n",
              "             param_grid={'C': [0.1, 1, 10, 100, 1000],\n",
              "                         'gamma': [1, 0.1, 0.01, 0.001, 0.0001],\n",
              "                         'kernel': ['linear']},\n",
              "             verbose=3)"
            ],
            "text/html": [
              "<style>#sk-container-id-2 {color: black;background-color: white;}#sk-container-id-2 pre{padding: 0;}#sk-container-id-2 div.sk-toggleable {background-color: white;}#sk-container-id-2 label.sk-toggleable__label {cursor: pointer;display: block;width: 100%;margin-bottom: 0;padding: 0.3em;box-sizing: border-box;text-align: center;}#sk-container-id-2 label.sk-toggleable__label-arrow:before {content: \"▸\";float: left;margin-right: 0.25em;color: #696969;}#sk-container-id-2 label.sk-toggleable__label-arrow:hover:before {color: black;}#sk-container-id-2 div.sk-estimator:hover label.sk-toggleable__label-arrow:before {color: black;}#sk-container-id-2 div.sk-toggleable__content {max-height: 0;max-width: 0;overflow: hidden;text-align: left;background-color: #f0f8ff;}#sk-container-id-2 div.sk-toggleable__content pre {margin: 0.2em;color: black;border-radius: 0.25em;background-color: #f0f8ff;}#sk-container-id-2 input.sk-toggleable__control:checked~div.sk-toggleable__content {max-height: 200px;max-width: 100%;overflow: auto;}#sk-container-id-2 input.sk-toggleable__control:checked~label.sk-toggleable__label-arrow:before {content: \"▾\";}#sk-container-id-2 div.sk-estimator input.sk-toggleable__control:checked~label.sk-toggleable__label {background-color: #d4ebff;}#sk-container-id-2 div.sk-label input.sk-toggleable__control:checked~label.sk-toggleable__label {background-color: #d4ebff;}#sk-container-id-2 input.sk-hidden--visually {border: 0;clip: rect(1px 1px 1px 1px);clip: rect(1px, 1px, 1px, 1px);height: 1px;margin: -1px;overflow: hidden;padding: 0;position: absolute;width: 1px;}#sk-container-id-2 div.sk-estimator {font-family: monospace;background-color: #f0f8ff;border: 1px dotted black;border-radius: 0.25em;box-sizing: border-box;margin-bottom: 0.5em;}#sk-container-id-2 div.sk-estimator:hover {background-color: #d4ebff;}#sk-container-id-2 div.sk-parallel-item::after {content: \"\";width: 100%;border-bottom: 1px solid gray;flex-grow: 1;}#sk-container-id-2 div.sk-label:hover label.sk-toggleable__label {background-color: #d4ebff;}#sk-container-id-2 div.sk-serial::before {content: \"\";position: absolute;border-left: 1px solid gray;box-sizing: border-box;top: 0;bottom: 0;left: 50%;z-index: 0;}#sk-container-id-2 div.sk-serial {display: flex;flex-direction: column;align-items: center;background-color: white;padding-right: 0.2em;padding-left: 0.2em;position: relative;}#sk-container-id-2 div.sk-item {position: relative;z-index: 1;}#sk-container-id-2 div.sk-parallel {display: flex;align-items: stretch;justify-content: center;background-color: white;position: relative;}#sk-container-id-2 div.sk-item::before, #sk-container-id-2 div.sk-parallel-item::before {content: \"\";position: absolute;border-left: 1px solid gray;box-sizing: border-box;top: 0;bottom: 0;left: 50%;z-index: -1;}#sk-container-id-2 div.sk-parallel-item {display: flex;flex-direction: column;z-index: 1;position: relative;background-color: white;}#sk-container-id-2 div.sk-parallel-item:first-child::after {align-self: flex-end;width: 50%;}#sk-container-id-2 div.sk-parallel-item:last-child::after {align-self: flex-start;width: 50%;}#sk-container-id-2 div.sk-parallel-item:only-child::after {width: 0;}#sk-container-id-2 div.sk-dashed-wrapped {border: 1px dashed gray;margin: 0 0.4em 0.5em 0.4em;box-sizing: border-box;padding-bottom: 0.4em;background-color: white;}#sk-container-id-2 div.sk-label label {font-family: monospace;font-weight: bold;display: inline-block;line-height: 1.2em;}#sk-container-id-2 div.sk-label-container {text-align: center;}#sk-container-id-2 div.sk-container {/* jupyter's `normalize.less` sets `[hidden] { display: none; }` but bootstrap.min.css set `[hidden] { display: none !important; }` so we also need the `!important` here to be able to override the default hidden behavior on the sphinx rendered scikit-learn.org. See: https://github.com/scikit-learn/scikit-learn/issues/21755 */display: inline-block !important;position: relative;}#sk-container-id-2 div.sk-text-repr-fallback {display: none;}</style><div id=\"sk-container-id-2\" class=\"sk-top-container\"><div class=\"sk-text-repr-fallback\"><pre>GridSearchCV(cv=5, estimator=SVC(),\n",
              "             param_grid={&#x27;C&#x27;: [0.1, 1, 10, 100, 1000],\n",
              "                         &#x27;gamma&#x27;: [1, 0.1, 0.01, 0.001, 0.0001],\n",
              "                         &#x27;kernel&#x27;: [&#x27;linear&#x27;]},\n",
              "             verbose=3)</pre><b>In a Jupyter environment, please rerun this cell to show the HTML representation or trust the notebook. <br />On GitHub, the HTML representation is unable to render, please try loading this page with nbviewer.org.</b></div><div class=\"sk-container\" hidden><div class=\"sk-item sk-dashed-wrapped\"><div class=\"sk-label-container\"><div class=\"sk-label sk-toggleable\"><input class=\"sk-toggleable__control sk-hidden--visually\" id=\"sk-estimator-id-2\" type=\"checkbox\" ><label for=\"sk-estimator-id-2\" class=\"sk-toggleable__label sk-toggleable__label-arrow\">GridSearchCV</label><div class=\"sk-toggleable__content\"><pre>GridSearchCV(cv=5, estimator=SVC(),\n",
              "             param_grid={&#x27;C&#x27;: [0.1, 1, 10, 100, 1000],\n",
              "                         &#x27;gamma&#x27;: [1, 0.1, 0.01, 0.001, 0.0001],\n",
              "                         &#x27;kernel&#x27;: [&#x27;linear&#x27;]},\n",
              "             verbose=3)</pre></div></div></div><div class=\"sk-parallel\"><div class=\"sk-parallel-item\"><div class=\"sk-item\"><div class=\"sk-label-container\"><div class=\"sk-label sk-toggleable\"><input class=\"sk-toggleable__control sk-hidden--visually\" id=\"sk-estimator-id-3\" type=\"checkbox\" ><label for=\"sk-estimator-id-3\" class=\"sk-toggleable__label sk-toggleable__label-arrow\">estimator: SVC</label><div class=\"sk-toggleable__content\"><pre>SVC()</pre></div></div></div><div class=\"sk-serial\"><div class=\"sk-item\"><div class=\"sk-estimator sk-toggleable\"><input class=\"sk-toggleable__control sk-hidden--visually\" id=\"sk-estimator-id-4\" type=\"checkbox\" ><label for=\"sk-estimator-id-4\" class=\"sk-toggleable__label sk-toggleable__label-arrow\">SVC</label><div class=\"sk-toggleable__content\"><pre>SVC()</pre></div></div></div></div></div></div></div></div></div></div>"
            ]
          },
          "metadata": {},
          "execution_count": 23
        }
      ]
    },
    {
      "cell_type": "code",
      "source": [
        "grid.best_params_"
      ],
      "metadata": {
        "colab": {
          "base_uri": "https://localhost:8080/"
        },
        "id": "hQwFrYRfStzJ",
        "outputId": "8a05c59a-df4e-4f86-a245-316494e3b0f2"
      },
      "execution_count": 24,
      "outputs": [
        {
          "output_type": "execute_result",
          "data": {
            "text/plain": [
              "{'C': 1, 'gamma': 1, 'kernel': 'linear'}"
            ]
          },
          "metadata": {},
          "execution_count": 24
        }
      ]
    },
    {
      "cell_type": "code",
      "source": [
        "## Prediction\n",
        "y_pred4=grid.predict(X_test)"
      ],
      "metadata": {
        "id": "P2jye4soSzKm"
      },
      "execution_count": 25,
      "outputs": []
    },
    {
      "cell_type": "code",
      "source": [
        "print(classification_report(y_test,y_pred4))"
      ],
      "metadata": {
        "colab": {
          "base_uri": "https://localhost:8080/"
        },
        "id": "SiIeblB3S3HH",
        "outputId": "ec8f141d-e418-4b42-bc98-984c12d381f4"
      },
      "execution_count": 26,
      "outputs": [
        {
          "output_type": "stream",
          "name": "stdout",
          "text": [
            "              precision    recall  f1-score   support\n",
            "\n",
            "           0       0.94      0.94      0.94       130\n",
            "           1       0.93      0.93      0.93       120\n",
            "\n",
            "    accuracy                           0.94       250\n",
            "   macro avg       0.94      0.94      0.94       250\n",
            "weighted avg       0.94      0.94      0.94       250\n",
            "\n"
          ]
        }
      ]
    },
    {
      "cell_type": "code",
      "source": [
        "print(confusion_matrix(y_test,y_pred4))"
      ],
      "metadata": {
        "colab": {
          "base_uri": "https://localhost:8080/"
        },
        "id": "avq8zHfLS4o_",
        "outputId": "a981535d-0092-4a82-9b70-6c10f66fa440"
      },
      "execution_count": 27,
      "outputs": [
        {
          "output_type": "stream",
          "name": "stdout",
          "text": [
            "[[122   8]\n",
            " [  8 112]]\n"
          ]
        }
      ]
    },
    {
      "cell_type": "code",
      "source": [
        "print(accuracy_score(y_test,y_pred))"
      ],
      "metadata": {
        "colab": {
          "base_uri": "https://localhost:8080/"
        },
        "id": "EayflfnvS6Qz",
        "outputId": "ac8fcf9c-6db7-4767-f7a5-46b2ae1edeb2"
      },
      "execution_count": 28,
      "outputs": [
        {
          "output_type": "stream",
          "name": "stdout",
          "text": [
            "0.936\n"
          ]
        }
      ]
    },
    {
      "cell_type": "markdown",
      "source": [
        "# Support Vector Regressor Implementation"
      ],
      "metadata": {
        "id": "bNsXsCFtTH1R"
      }
    },
    {
      "cell_type": "code",
      "source": [
        "import pandas as pd\n",
        "import numpy as np\n",
        "import seaborn as sns\n",
        "import matplotlib.pyplot as plt\n",
        "import seaborn as sns"
      ],
      "metadata": {
        "id": "LhnCgQKIS6ud"
      },
      "execution_count": 29,
      "outputs": []
    },
    {
      "cell_type": "code",
      "source": [
        "## Lets create synthetic data points\n",
        "\n",
        "from sklearn.datasets import make_regression"
      ],
      "metadata": {
        "id": "DuosKEqdTRTy"
      },
      "execution_count": 30,
      "outputs": []
    },
    {
      "cell_type": "code",
      "source": [
        "# 2 features, 1 target\n",
        "\n",
        "X,y=make_regression(n_samples=1000,n_features=2,n_targets=1,noise=3.0)"
      ],
      "metadata": {
        "id": "OGKKtloUTcw-"
      },
      "execution_count": 31,
      "outputs": []
    },
    {
      "cell_type": "code",
      "source": [
        "X.shape"
      ],
      "metadata": {
        "colab": {
          "base_uri": "https://localhost:8080/"
        },
        "id": "-iX78AwETdux",
        "outputId": "740dbc84-5329-45f7-ed85-9d1fc4c9c4e8"
      },
      "execution_count": 32,
      "outputs": [
        {
          "output_type": "execute_result",
          "data": {
            "text/plain": [
              "(1000, 2)"
            ]
          },
          "metadata": {},
          "execution_count": 32
        }
      ]
    },
    {
      "cell_type": "code",
      "source": [
        "y.shape"
      ],
      "metadata": {
        "colab": {
          "base_uri": "https://localhost:8080/"
        },
        "id": "mC-LFJ0OTkF9",
        "outputId": "0cea2866-747a-4569-a52a-1ac3e4ca95a8"
      },
      "execution_count": 33,
      "outputs": [
        {
          "output_type": "execute_result",
          "data": {
            "text/plain": [
              "(1000,)"
            ]
          },
          "metadata": {},
          "execution_count": 33
        }
      ]
    },
    {
      "cell_type": "code",
      "source": [
        "print(X), print(y)"
      ],
      "metadata": {
        "colab": {
          "base_uri": "https://localhost:8080/"
        },
        "collapsed": true,
        "id": "nG966vphTlBe",
        "outputId": "05ec890a-25aa-4e77-c17d-607c7a3acffd"
      },
      "execution_count": 34,
      "outputs": [
        {
          "output_type": "stream",
          "name": "stdout",
          "text": [
            "[[-0.61875061  1.04354455]\n",
            " [-1.21252979  0.37889331]\n",
            " [-2.09750827 -0.57886299]\n",
            " ...\n",
            " [-0.05469249 -0.36832607]\n",
            " [ 0.10735147 -0.4531107 ]\n",
            " [ 0.21782678 -0.42064107]]\n",
            "[-3.49001287e+01 -7.91073231e+01 -1.42186961e+02  9.15301971e+01\n",
            "  5.42336480e+01 -5.92442251e+01 -3.02805194e+00 -5.16510965e+01\n",
            " -5.81135555e+01  1.86225607e+01  5.41167672e+01  1.70892817e+01\n",
            " -5.01042473e+00  7.24813768e+01  3.72276950e+01 -1.48151808e+01\n",
            " -9.78476836e+01 -1.01853177e+02  9.24510329e+01  5.50174315e+01\n",
            "  1.97654634e+01 -1.39304377e+01  3.69016401e+01 -4.72327419e+01\n",
            "  4.70281174e+01 -1.96560628e+01 -9.02466848e+01 -1.11023893e+01\n",
            "  3.85663057e+01  1.23563548e+01 -4.61107911e+01  4.06453023e+01\n",
            "  1.46529870e+02 -1.80918431e+01 -3.02709012e+01  1.24736303e+02\n",
            "  1.86719446e+01  1.19631512e+01 -5.46196949e+01 -2.07117003e+01\n",
            "  3.67648426e+01 -9.25613719e+01 -6.74711854e+01 -1.16557583e+02\n",
            " -1.29978974e+01  1.60017778e+01  8.30683997e+01 -1.74952075e+02\n",
            "  7.03161430e+01 -1.27035346e+02  6.30506820e+01  9.75347502e+01\n",
            "  4.30011877e+01 -1.55794804e+01 -4.01513715e+01  8.71185653e+01\n",
            "  3.59305039e+01  9.73227691e+01 -1.23703538e+02  5.68753772e+01\n",
            " -5.84965806e+01 -8.85605919e+00 -1.56308999e+01  1.37427105e+02\n",
            "  1.22180968e+01  3.57617805e+00 -1.74168869e+01  1.24298022e+01\n",
            "  1.15311470e+02 -9.86733147e+01 -8.40476572e+01  2.18596943e+01\n",
            " -2.08546022e+01 -1.12775171e+02  6.44803095e+00  2.83364247e+01\n",
            "  7.61785692e+01  1.61920863e+01 -1.63347508e+02  1.05607906e+02\n",
            "  1.44041081e+01  5.20805565e+01  1.20226207e+02 -6.74559688e+01\n",
            "  1.42986424e+01  1.05882704e+02  6.12628909e+00  9.10527164e+01\n",
            " -4.34743368e+01 -1.58742075e+02  5.18035819e+01  5.33648853e+01\n",
            " -5.01712122e+01  4.15749224e+01  1.76374652e+01  1.61857617e+01\n",
            "  9.24438266e+00  3.63923906e+01 -2.29439099e+02 -4.65615866e+01\n",
            "  6.72724119e+01 -3.94984225e+01 -6.27956591e+01  4.54542580e+01\n",
            " -6.65785092e+01  1.23545800e+01  6.54036589e+00  1.65942885e+02\n",
            "  3.46138955e+01 -4.48970230e+00 -9.65203696e+01  9.76228330e+01\n",
            "  1.05630674e+01  1.04453224e+02 -4.88179386e+01 -1.45252448e+01\n",
            "  1.07234556e+02  2.54800113e+01  3.95168679e+00  6.57864349e+01\n",
            " -4.07302397e+01  6.33990647e+01  3.27774538e+00 -1.09713793e+02\n",
            "  1.82288786e+01  1.71421988e+01  9.92429042e+01  2.82758375e+01\n",
            " -4.49952516e+01 -3.48498158e+01  5.92364045e+01  1.00498505e+02\n",
            "  5.70827297e+01 -1.66020716e+02  6.09521461e+00  8.20645269e+01\n",
            "  8.31929226e+01 -7.31256480e+01 -2.83388902e+01 -4.47683977e+01\n",
            "  3.67766234e+01 -3.34029992e+01  2.71236920e+01  8.21465083e+01\n",
            " -4.70948190e+01  6.98147016e+01  9.50252788e+01  4.76344403e+01\n",
            "  1.25028246e+02 -1.08717359e+00 -8.83514286e+00 -4.45850764e+01\n",
            "  3.80710576e+01  4.67915629e+01 -1.27686974e+02 -2.83418788e+01\n",
            "  2.67398571e+01 -4.36507686e+00  1.06819476e+02 -9.47492320e+01\n",
            "  4.76986062e+01 -6.99580472e+00 -6.62971418e+01 -6.06552754e+00\n",
            "  3.13647664e+01  1.08943962e+00  7.39967735e+01  5.67494478e+01\n",
            "  5.14235203e+01 -3.88527405e+00 -7.24375338e+01  3.33061886e+01\n",
            " -9.26193420e+01 -2.96709986e+01  3.69836809e+01 -7.46531933e-02\n",
            "  1.10242329e+02 -1.80292482e+01  4.51357201e+01 -1.23302548e+01\n",
            " -1.60621666e+01  3.15955555e+00 -1.96210584e+01  2.10645336e+02\n",
            " -1.76463626e+01 -2.74313945e+01 -5.52574161e+01  4.34692082e+00\n",
            "  5.08581119e+01  4.44633700e+01  7.43325024e+01  3.78492998e+01\n",
            "  6.67803718e+01  9.06323249e+01 -3.07530308e+00  7.73481307e+01\n",
            " -1.02589897e+02  3.07848798e+01  1.39349673e+01  5.82355651e+00\n",
            "  4.45529495e+01 -1.01941296e+02  8.43550835e+01  1.87331548e+02\n",
            "  2.33458802e+01  5.70122965e+01 -8.90313926e+01  2.07850459e+02\n",
            "  4.14052733e+01  1.60652136e+01  6.41029430e+01  1.05252215e+01\n",
            "  1.06768936e+02  1.12906986e+01 -2.66474541e+01  2.33249975e+01\n",
            "  1.16137211e+01  7.07507762e+01  3.12875573e+01 -4.80055506e+01\n",
            "  1.48435314e+02 -9.40587206e+01 -6.76886360e+01 -4.91906256e+01\n",
            " -1.30407002e+01  2.42437071e+00 -1.15414849e+02  2.63453184e+01\n",
            " -3.80153239e+00 -1.79817361e+02 -2.36979729e+01 -1.09870579e+01\n",
            "  8.38845880e+01  2.46947319e+01  1.02616702e+02  9.33010424e+01\n",
            "  1.59639292e+02  4.06237945e+01 -5.05690042e+01  9.81697006e-01\n",
            "  3.40764657e+00  1.21271596e+02 -6.59506778e+01 -6.07351644e+01\n",
            "  1.95190631e+01 -2.16893724e+01  5.04622555e+01  2.57069033e+01\n",
            " -3.85215826e+01 -3.12516397e+01  1.37632025e+02 -5.44036291e+00\n",
            "  4.80250281e+01  4.51726242e+01  6.14404142e+01  7.33602651e+01\n",
            " -8.53515247e+01 -6.69247227e+01  5.86435964e+01  1.44148037e+01\n",
            "  1.04811367e+01  4.35471562e+01  2.88642551e+01  6.49733801e+01\n",
            " -1.10871809e+01 -8.52772220e+01  7.02515941e+01  1.83214151e+01\n",
            " -4.06766024e+01  8.47017220e-01  1.89952040e+01 -3.85520926e+01\n",
            " -1.45969820e+02  6.11271087e+01 -3.06962133e+01  7.52948762e+00\n",
            "  9.39714766e+01  8.93381297e+01  4.87336407e+01  2.36179972e+01\n",
            " -4.92384777e-01  1.98356317e+01 -1.91253647e+01  6.12403501e+01\n",
            " -2.63966113e+01  1.20112698e+02  9.11368228e+01 -3.27368152e+00\n",
            "  3.99500652e+01  6.66696973e+01  3.01033334e+01  5.67658796e+01\n",
            "  5.69549637e+01  6.04632105e+00  1.53069608e+02 -4.09521942e+01\n",
            " -4.23149240e+00  1.43234137e+01 -1.22415675e+02  2.50641830e+01\n",
            "  3.57531300e+01 -1.65340013e+01 -2.19329841e+00 -3.88493442e+01\n",
            "  1.04462524e+01 -1.05884790e+01  2.88219759e+01  6.30189916e+01\n",
            "  1.78296720e+02  4.52423837e+01 -1.87760854e+01  1.15097994e+02\n",
            " -1.09163069e-01  7.72235682e+01 -8.20379370e+01 -4.22051789e+01\n",
            " -3.07927883e+00  4.59851676e+01 -5.67402017e+01 -9.85245957e+01\n",
            "  4.86483028e+01 -1.45055270e+01 -1.20196730e+02  2.16705333e+01\n",
            " -1.18679086e+02  1.53221626e+00  6.79796006e+01  1.60912275e+02\n",
            " -1.49551389e+02 -1.23460124e+01 -3.18994123e+01 -1.96142885e+01\n",
            " -7.68425575e+01 -2.50335599e+01 -1.80412966e+01  5.55627447e+01\n",
            "  1.79148855e+01 -2.01301047e+01 -7.02699104e+01  3.48449545e+01\n",
            " -5.05570182e+01  2.57538941e+01 -6.86437097e+01  3.72231234e+01\n",
            " -5.10176234e+00 -1.12998775e+02  2.32373464e+01  5.11177256e+01\n",
            " -1.37416618e+02  8.79863511e+01  7.75526997e+00  2.54720360e+00\n",
            " -4.35508802e+01 -9.87279369e-01 -8.05806240e+01 -4.80242914e+01\n",
            " -9.02371976e+01 -7.84642602e+00  4.88405845e+01  3.18221858e+01\n",
            "  3.76104467e-01  5.47808184e+01  7.17108751e+01  1.20337702e+02\n",
            "  8.18029514e+00 -8.87405390e+00  1.60257264e+02  8.31135689e+00\n",
            " -1.15850113e+02  1.55915882e+01  1.05729134e+02 -6.23257999e+00\n",
            "  5.62818877e+01  1.01635612e+02  6.56475570e+01  1.10746586e+02\n",
            " -1.16792667e+01 -1.85761183e+01  9.75160795e+01 -6.34770637e+01\n",
            "  3.49339043e+01 -2.56786558e+01 -6.16267840e+01 -1.84069594e+00\n",
            " -4.42676643e+01  1.01091411e+01  5.17224539e+01 -3.66818478e+01\n",
            "  2.42316560e+01 -3.11462871e+01  3.55512561e+01  9.15097769e+01\n",
            "  1.28784680e+01  6.28907568e+01  3.95029778e+01  1.24875697e+02\n",
            "  6.54893462e+01 -8.21947294e+01  8.86073327e+01 -1.02092457e+01\n",
            "  2.76021596e+01 -1.08733810e+01 -1.29298951e+02  7.85140378e+01\n",
            " -4.73219603e+01  4.92889358e+01 -3.34080581e+01  2.58319619e+01\n",
            "  1.78102504e+01  4.49968685e+01  9.91262829e+01 -8.38193802e+01\n",
            "  1.75724078e+01  1.52625028e+02  1.36743313e+01  2.86907484e+01\n",
            " -1.56370883e+02  8.90205055e+01 -1.46724703e-01 -1.08028553e+02\n",
            " -4.12742870e+01 -8.22655514e+00  4.49348383e+00  1.87903351e+01\n",
            "  1.39061488e+02  3.92573655e+01 -4.76994337e+01  6.00632725e+01\n",
            " -6.99244551e+00  7.49769474e+00  2.94095149e+01 -9.44484072e+01\n",
            "  1.37515303e+02  1.13375914e+02  2.53257855e+01  3.80809350e+01\n",
            "  5.57832600e+01 -1.78600632e+02 -6.35315932e+01  1.44768307e+01\n",
            "  3.17536967e+01 -1.28940336e+02 -2.23591637e+01  6.07360365e+01\n",
            "  3.61795918e+01 -1.14324621e+02  1.71929278e+01  4.38447911e+01\n",
            " -3.85928642e+01 -2.69886315e+01  7.94644210e+01  4.20460105e+01\n",
            "  4.34563507e+01 -1.09207664e+02  1.13366840e+02  7.82338479e+01\n",
            "  6.53191753e+01 -3.54275566e+01  6.20518894e+01  9.43189287e+01\n",
            "  3.76171340e+01  6.32763614e+01 -1.42487798e+02 -3.33717551e+01\n",
            "  1.36885331e+01 -3.31335150e+01 -3.41628200e+01 -9.51594397e+00\n",
            "  4.06219050e+01  2.75015854e+01 -1.71298603e+01  5.29440733e+01\n",
            " -1.57423180e+02 -2.14915114e+01 -8.89754764e+01  9.53777135e+01\n",
            " -2.69715785e+01  8.24121602e+01 -2.07178998e+01  1.30581461e+01\n",
            "  5.46667220e+01  1.46565532e+01  7.27028273e+01  1.65326505e+02\n",
            "  2.11154833e+01  2.74836174e+01  1.23869313e+02  6.03124152e+01\n",
            " -1.70380785e+02  1.18536362e+02  8.50278309e+01  2.73425254e+01\n",
            " -3.26490651e+01 -3.00765453e+01 -3.26584606e+01  2.28059425e+01\n",
            "  8.39721303e+01 -4.50828950e+01  4.00382170e+01 -6.56155721e+00\n",
            " -9.41932565e+01 -3.16266709e+01 -2.94542449e+01 -1.92517788e+01\n",
            " -5.65131291e+01 -1.27808000e+02 -4.82863740e+00 -1.69310043e+02\n",
            " -1.00211700e+01  1.16708511e+01  8.83024882e+01  8.27001157e+00\n",
            "  8.71624963e+01  1.38956423e+01  5.35318210e+01 -1.76340118e+01\n",
            "  9.20408160e+01 -5.59540289e+01  6.89298315e+01  7.84657975e-01\n",
            " -5.44080955e+01  2.18998854e+01  8.63407923e+01 -1.13851018e+02\n",
            " -8.58633023e+01  1.38596832e+02  1.10390753e+02 -1.10256056e+02\n",
            "  1.36782790e+01 -7.79246563e+01  6.05864506e+00  5.12360436e+01\n",
            "  9.04931171e+01  4.46134835e+01 -1.43765000e+01 -1.06979147e+02\n",
            " -3.60873932e+00 -7.26120000e+01  8.85054432e+01  6.07540090e+01\n",
            " -1.27134269e+02 -1.02232469e+01 -9.07067738e+00 -1.45446652e+01\n",
            " -1.24205014e+02 -2.25770259e+01 -3.22075998e+01 -4.77702036e+01\n",
            " -2.36484487e+01  7.21042371e+01  8.31889907e+01 -3.21918443e+01\n",
            "  5.79886568e+00  5.86093044e+00 -6.21837467e+01 -1.31405374e+01\n",
            " -7.67527043e+01  4.82431459e+01 -3.77216871e+01  1.19697914e+02\n",
            "  1.09849466e+01 -8.94874497e+00  3.38490454e+01  5.58450177e+01\n",
            "  7.75787493e+01  6.78508064e+01  2.00097868e+01 -3.49874258e+01\n",
            " -2.23703824e+01  5.92864908e+00 -1.53295865e+02 -3.89145513e+01\n",
            "  5.07057548e+01  1.71863179e+01 -9.71020043e+01  8.05522182e-01\n",
            " -1.27848634e+02 -2.36660149e+01  3.86599633e+01 -1.94967298e+01\n",
            " -5.88589516e+01 -3.59643076e+01  2.43484179e+01  7.27700871e+01\n",
            " -9.98341581e+00  1.15092514e+01 -3.53579752e+01 -8.31274147e+01\n",
            "  5.01892569e+01 -2.20634211e+01 -3.43985551e+01 -3.42355239e+01\n",
            "  3.76250253e+01  9.95055086e+01 -5.76396053e+01 -7.16106198e+01\n",
            " -3.67173885e+01 -7.21630706e+00 -9.07500242e+01 -5.42353571e+01\n",
            "  6.49080040e+00  7.60705337e+01  1.05574423e+01  7.22979225e+01\n",
            "  6.23256982e+01  2.88933160e+01  1.47668752e+02 -2.97581872e+01\n",
            "  8.97091293e+01 -1.82969903e+01 -6.86824260e+01  1.16741344e+02\n",
            "  5.17699890e+01  1.00650464e+02  3.09925048e+01  5.42953822e+01\n",
            "  1.60548207e+02  7.89486010e+01 -2.76776199e+01 -3.46558252e+01\n",
            " -7.57759950e+01 -6.90256983e+01  2.68891915e+01  1.50305949e+01\n",
            " -4.64316966e+01  4.31389672e+01 -6.65099831e+01 -1.32755903e+02\n",
            "  5.19358544e+01 -3.80079736e+01  7.63379640e+01 -4.17927632e+01\n",
            "  1.40828828e+01  6.24090766e+01 -3.22125919e+01  1.51562481e+01\n",
            " -1.17726498e+01 -4.09150191e+01 -1.60764987e+01  1.11339168e+01\n",
            " -2.69428812e+00  2.35091512e+00  6.40675595e+01  3.56720743e+01\n",
            "  5.73151599e+01  2.73678203e+01 -3.07704737e+01  6.04121955e+01\n",
            " -9.74026026e+01 -3.79951307e+01 -1.28531367e+01 -1.91346980e+01\n",
            " -4.68729542e+01  3.51786699e+01  3.92044108e+00  1.85655824e+02\n",
            " -8.16180005e+01  8.10456146e+01 -4.62335731e+01 -1.52556129e+02\n",
            " -3.32123063e+01  7.59855403e+01  8.40221661e+01  7.89226561e+01\n",
            " -8.22665286e+01 -3.95327370e+01 -1.25678803e+02 -3.36942035e+01\n",
            " -6.42457012e+01 -1.80913129e+01 -2.28429626e+01  7.46214042e+01\n",
            "  3.59951921e+01  4.99906906e+01  4.22425493e+01  2.31466638e+01\n",
            " -2.98094019e+01  6.62840097e+01  6.59813010e+01  1.50048613e+00\n",
            " -4.23091489e+01  4.90336524e+01 -6.67158807e+00 -6.18037948e+00\n",
            "  4.81301868e+01  3.27581119e+01  4.90196117e+01  3.63972235e+01\n",
            " -1.69126409e+01 -8.94925709e+01  3.33960588e+01 -1.52179635e+01\n",
            "  1.03739264e+02  2.35458171e+01 -8.92082742e+00 -6.56007843e+01\n",
            "  7.70680438e+01  1.73879841e+01 -7.08850102e+01  4.80861732e+01\n",
            " -1.05702873e+02  8.43223514e+01 -1.54080727e+01  7.93803738e+01\n",
            " -9.19059860e+01 -2.95010968e+01  1.10102195e+02  1.28198851e+01\n",
            "  2.02918241e+01  2.82607129e+01  1.10466756e+02  4.21529599e+01\n",
            " -7.83043075e+01 -7.96141388e+01 -2.86013140e+01  2.73482851e+01\n",
            " -9.25321434e+01  3.20005312e+01  8.16418749e+01  1.92794267e+01\n",
            " -1.64846599e+01  5.55791833e+01 -3.90360245e+01 -3.69831691e+01\n",
            " -7.97716716e+01  1.19590513e+01 -8.64754298e+01 -5.01020209e+01\n",
            " -4.94204095e+01 -6.40369124e+01 -7.25248640e+01 -1.55386346e+02\n",
            " -8.48376672e+01  2.54220713e+01 -2.52879246e+01  1.03623202e+02\n",
            "  1.15628669e+01  5.65110859e+01  4.02996060e+01  1.56493136e+01\n",
            " -3.35547252e+01  6.12695682e+01  7.45396406e+01  3.59114463e+01\n",
            " -3.86200023e+00  3.99150663e+01 -5.44366443e+01  5.40637519e+01\n",
            "  8.88836664e+01  2.93943914e+01 -2.84483719e+01  6.91190417e+01\n",
            "  2.08417495e+01 -6.85715620e+01 -4.66277565e+00 -7.73621576e+01\n",
            " -2.67268374e+00 -6.71948807e+01 -1.00172008e+02  1.79548852e+01\n",
            " -2.41014338e+01 -4.59442656e+01 -8.82385040e+01 -9.69594904e+00\n",
            " -1.54752308e+00  5.02918385e+00 -4.70501234e+01  1.07058984e+02\n",
            "  3.35755406e+01  2.08223065e+01 -7.66344410e+00 -3.36559406e+01\n",
            "  1.35477925e+02  7.15357092e+01  6.35785880e+01 -1.05693743e+02\n",
            " -1.36972079e+01 -1.05117405e+01 -3.11070711e+01  5.23982211e+01\n",
            "  5.89529295e+01 -1.93063804e+02  1.52108397e+02 -4.01268664e+01\n",
            " -8.14542831e+01 -8.86939365e-02  3.27244386e+01 -1.08760694e+02\n",
            "  1.20602678e+02 -1.13510185e+02 -3.40642183e+01  2.07395146e+01\n",
            "  1.78579677e+01  4.30194896e+01 -4.08617033e+01  6.42277678e+00\n",
            " -8.83012956e+01  5.51780840e+01 -8.03265835e+01 -7.17427977e+01\n",
            " -8.01609945e+01  2.41347646e+01 -3.66392622e+01  1.13491985e+02\n",
            " -2.89330522e+01  2.92933335e+01  1.29524319e+01 -1.41719846e+01\n",
            "  1.92210513e+01 -1.32221555e+01 -4.80810599e+01  2.72566979e+01\n",
            "  7.09430702e+01 -4.33298441e-01  6.86947842e+01 -3.17799346e+01\n",
            " -5.45048327e+01 -3.49357582e+01  3.09014020e+01  2.24189911e+01\n",
            " -3.14007823e+01  4.34418237e+01  3.85493047e+01 -1.36123625e+01\n",
            " -1.18710550e+01 -3.06170147e+01 -2.35003702e+01 -2.27915261e+01\n",
            " -1.23570080e+01  2.86442210e+01 -2.13877407e+01  9.71349524e+01\n",
            "  3.34013966e+01  1.98324778e+01 -1.04237456e+02 -2.03087573e+01\n",
            " -5.51631015e+00  9.91866785e+01 -5.72433282e+01  6.25137481e+01\n",
            "  1.15137357e+02 -6.69666782e+00 -3.16248088e+01  6.34762422e+01\n",
            "  4.20466062e+01 -5.93943555e+01 -1.07580864e+02 -1.66226206e+01\n",
            "  1.02157448e+01 -9.03124598e+01  2.17924717e+01  5.82865144e+01\n",
            " -2.29853999e+01  7.00021718e+01  4.29958929e+01 -5.20873616e+01\n",
            " -7.35293304e+01 -4.95955769e+01 -1.85192728e+01  6.30163160e+01\n",
            " -2.09440704e+01 -7.45261598e+01  9.26359178e+01 -6.18530157e+01\n",
            "  7.29511649e+01  1.47314553e+02  3.33573991e+01 -8.03578510e+01\n",
            "  1.49244225e+02  5.88922060e+01 -2.00300815e+02  7.64805960e+00\n",
            "  6.83643289e+01 -5.37392180e+01 -8.49509742e+01  5.03840666e+01\n",
            "  7.99953166e+00 -7.51075653e+01 -5.93558962e+01  5.86285718e+01\n",
            "  8.49471485e+01  6.32723590e+00  8.27811698e+01  3.92994991e+01\n",
            "  8.23620544e+01  1.51192188e+01 -1.92606636e+01  7.57192445e+01\n",
            "  1.03877248e+00 -7.68860741e+01  1.63982373e+01  3.57077455e+01\n",
            " -3.59241214e+01 -4.47373847e+01 -1.37727865e+01  1.12113709e+02\n",
            " -1.17055690e+02 -1.24771615e+02  2.20471086e+01  5.94405011e+01\n",
            " -6.78489433e+00  1.57589538e+01 -7.63209865e+01  2.25166918e+01\n",
            "  4.20690713e+01 -7.20853638e+01 -1.04534743e+02 -6.15869365e+01\n",
            " -6.88541434e+01  2.57087877e+01  3.68572925e+01 -9.69710498e+01\n",
            "  1.19109483e+02  4.20327396e+01  2.17221491e+01 -3.06561023e+01\n",
            " -8.22446145e+01  1.21799809e+02  1.40002617e+01 -1.20220322e+02\n",
            "  5.59477364e+01 -1.21272849e+02 -2.53416652e+01 -7.58268051e+01\n",
            "  1.21259236e+02 -1.23242470e+01  3.59978711e+01 -6.51006605e-01\n",
            "  1.94037696e+01 -9.40153365e+01 -8.97047204e+00  1.21684345e+02\n",
            "  9.38752356e+00 -3.40510770e+01 -5.06563831e+01  6.12252173e+01\n",
            "  1.54980714e+01 -2.24283571e+01  1.58360851e+01  1.16068714e+02\n",
            "  3.16562779e+01  1.34813718e+01  2.42022478e+00  1.35009435e+01\n",
            "  1.16290275e+02 -6.53021694e+01  1.11854598e+02  4.30941909e+01\n",
            "  3.13725805e+01  7.54344126e+01  7.00155437e+00 -1.05453977e+02\n",
            "  1.70589890e+01  8.96844067e+01 -6.13175657e+01  3.72366313e+01\n",
            " -2.21522636e+01 -7.65830676e+01 -8.31101816e+01 -7.19523386e+01\n",
            " -3.20565860e+01 -1.12038908e+02  8.78822418e+00 -2.48468336e+01\n",
            " -6.44997648e+01 -2.54258011e+01  8.20378476e+01 -1.94811314e+01\n",
            "  1.23228629e+01  6.54276459e+01  2.81424652e+01 -8.98484536e-01\n",
            "  1.09097300e+02 -6.04315372e+01 -3.14721666e+01  1.63110892e+02\n",
            "  4.94629618e+01  1.83403485e+01 -8.95476976e+01 -1.39563831e+01\n",
            "  1.16001655e+01  4.02052351e+00  1.35976306e+01 -2.00840739e+00\n",
            " -3.63961652e+01  1.41951019e+01 -5.86952157e+01  8.07479428e+01\n",
            " -3.52780072e+01  1.91989277e+01  5.31731413e+01 -2.27119221e+01\n",
            " -8.70828707e+00  1.83999624e+01  2.15598190e+02  8.84619336e+01\n",
            " -6.64293587e+01 -9.57699149e+00  2.98171404e+00  5.41439098e+00]\n"
          ]
        },
        {
          "output_type": "execute_result",
          "data": {
            "text/plain": [
              "(None, None)"
            ]
          },
          "metadata": {},
          "execution_count": 34
        }
      ]
    },
    {
      "cell_type": "code",
      "source": [
        "pd.DataFrame(X)[0]"
      ],
      "metadata": {
        "colab": {
          "base_uri": "https://localhost:8080/"
        },
        "id": "JDnAHj_GTthB",
        "outputId": "317475b8-85a0-496d-de89-5b363718fe2c"
      },
      "execution_count": 35,
      "outputs": [
        {
          "output_type": "execute_result",
          "data": {
            "text/plain": [
              "0     -0.618751\n",
              "1     -1.212530\n",
              "2     -2.097508\n",
              "3      1.331873\n",
              "4      0.851375\n",
              "         ...   \n",
              "995    1.409203\n",
              "996   -1.049243\n",
              "997   -0.054692\n",
              "998    0.107351\n",
              "999    0.217827\n",
              "Name: 0, Length: 1000, dtype: float64"
            ]
          },
          "metadata": {},
          "execution_count": 35
        }
      ]
    },
    {
      "cell_type": "code",
      "source": [
        "sns.scatterplot(x=pd.DataFrame(X)[0],y=pd.DataFrame(X)[1],hue=y)"
      ],
      "metadata": {
        "colab": {
          "base_uri": "https://localhost:8080/",
          "height": 467
        },
        "id": "g2D5S0qGTzUz",
        "outputId": "ea41c28c-e7a7-4285-ab78-cd0aba5f4703"
      },
      "execution_count": 36,
      "outputs": [
        {
          "output_type": "execute_result",
          "data": {
            "text/plain": [
              "<Axes: xlabel='0', ylabel='1'>"
            ]
          },
          "metadata": {},
          "execution_count": 36
        },
        {
          "output_type": "display_data",
          "data": {
            "text/plain": [
              "<Figure size 640x480 with 1 Axes>"
            ],
            "image/png": "[encoded data removed]"
          },
          "metadata": {}
        }
      ]
    },
    {
      "cell_type": "markdown",
      "source": [
        "# Performning the train test split"
      ],
      "metadata": {
        "id": "tXMqzG8ZT36V"
      }
    },
    {
      "cell_type": "code",
      "source": [
        "from sklearn.model_selection import train_test_split"
      ],
      "metadata": {
        "id": "m75muFVnT1ME"
      },
      "execution_count": 37,
      "outputs": []
    },
    {
      "cell_type": "code",
      "source": [
        "X_train,X_test,y_train,y_test=train_test_split(X,y,test_size=0.25,random_state=10)"
      ],
      "metadata": {
        "id": "tSwc4BufT9V9"
      },
      "execution_count": 38,
      "outputs": []
    },
    {
      "cell_type": "markdown",
      "source": [
        "# Perform the SVR (support vector regression)"
      ],
      "metadata": {
        "id": "_M72bgbKT_fj"
      }
    },
    {
      "cell_type": "code",
      "source": [
        "from sklearn.svm import SVR"
      ],
      "metadata": {
        "id": "xcss-Po0T-hk"
      },
      "execution_count": 39,
      "outputs": []
    },
    {
      "cell_type": "code",
      "source": [
        "svr=SVR(kernel='linear')"
      ],
      "metadata": {
        "id": "oWY5ayv5UGU0"
      },
      "execution_count": 40,
      "outputs": []
    },
    {
      "cell_type": "code",
      "source": [
        "svr.fit(X_train,y_train)"
      ],
      "metadata": {
        "colab": {
          "base_uri": "https://localhost:8080/",
          "height": 74
        },
        "id": "xh13KFIJUHJN",
        "outputId": "94d6cbc8-1318-4c17-ad1a-9c95640cd467"
      },
      "execution_count": 41,
      "outputs": [
        {
          "output_type": "execute_result",
          "data": {
            "text/plain": [
              "SVR(kernel='linear')"
            ],
            "text/html": [
              "<style>#sk-container-id-3 {color: black;background-color: white;}#sk-container-id-3 pre{padding: 0;}#sk-container-id-3 div.sk-toggleable {background-color: white;}#sk-container-id-3 label.sk-toggleable__label {cursor: pointer;display: block;width: 100%;margin-bottom: 0;padding: 0.3em;box-sizing: border-box;text-align: center;}#sk-container-id-3 label.sk-toggleable__label-arrow:before {content: \"▸\";float: left;margin-right: 0.25em;color: #696969;}#sk-container-id-3 label.sk-toggleable__label-arrow:hover:before {color: black;}#sk-container-id-3 div.sk-estimator:hover label.sk-toggleable__label-arrow:before {color: black;}#sk-container-id-3 div.sk-toggleable__content {max-height: 0;max-width: 0;overflow: hidden;text-align: left;background-color: #f0f8ff;}#sk-container-id-3 div.sk-toggleable__content pre {margin: 0.2em;color: black;border-radius: 0.25em;background-color: #f0f8ff;}#sk-container-id-3 input.sk-toggleable__control:checked~div.sk-toggleable__content {max-height: 200px;max-width: 100%;overflow: auto;}#sk-container-id-3 input.sk-toggleable__control:checked~label.sk-toggleable__label-arrow:before {content: \"▾\";}#sk-container-id-3 div.sk-estimator input.sk-toggleable__control:checked~label.sk-toggleable__label {background-color: #d4ebff;}#sk-container-id-3 div.sk-label input.sk-toggleable__control:checked~label.sk-toggleable__label {background-color: #d4ebff;}#sk-container-id-3 input.sk-hidden--visually {border: 0;clip: rect(1px 1px 1px 1px);clip: rect(1px, 1px, 1px, 1px);height: 1px;margin: -1px;overflow: hidden;padding: 0;position: absolute;width: 1px;}#sk-container-id-3 div.sk-estimator {font-family: monospace;background-color: #f0f8ff;border: 1px dotted black;border-radius: 0.25em;box-sizing: border-box;margin-bottom: 0.5em;}#sk-container-id-3 div.sk-estimator:hover {background-color: #d4ebff;}#sk-container-id-3 div.sk-parallel-item::after {content: \"\";width: 100%;border-bottom: 1px solid gray;flex-grow: 1;}#sk-container-id-3 div.sk-label:hover label.sk-toggleable__label {background-color: #d4ebff;}#sk-container-id-3 div.sk-serial::before {content: \"\";position: absolute;border-left: 1px solid gray;box-sizing: border-box;top: 0;bottom: 0;left: 50%;z-index: 0;}#sk-container-id-3 div.sk-serial {display: flex;flex-direction: column;align-items: center;background-color: white;padding-right: 0.2em;padding-left: 0.2em;position: relative;}#sk-container-id-3 div.sk-item {position: relative;z-index: 1;}#sk-container-id-3 div.sk-parallel {display: flex;align-items: stretch;justify-content: center;background-color: white;position: relative;}#sk-container-id-3 div.sk-item::before, #sk-container-id-3 div.sk-parallel-item::before {content: \"\";position: absolute;border-left: 1px solid gray;box-sizing: border-box;top: 0;bottom: 0;left: 50%;z-index: -1;}#sk-container-id-3 div.sk-parallel-item {display: flex;flex-direction: column;z-index: 1;position: relative;background-color: white;}#sk-container-id-3 div.sk-parallel-item:first-child::after {align-self: flex-end;width: 50%;}#sk-container-id-3 div.sk-parallel-item:last-child::after {align-self: flex-start;width: 50%;}#sk-container-id-3 div.sk-parallel-item:only-child::after {width: 0;}#sk-container-id-3 div.sk-dashed-wrapped {border: 1px dashed gray;margin: 0 0.4em 0.5em 0.4em;box-sizing: border-box;padding-bottom: 0.4em;background-color: white;}#sk-container-id-3 div.sk-label label {font-family: monospace;font-weight: bold;display: inline-block;line-height: 1.2em;}#sk-container-id-3 div.sk-label-container {text-align: center;}#sk-container-id-3 div.sk-container {/* jupyter's `normalize.less` sets `[hidden] { display: none; }` but bootstrap.min.css set `[hidden] { display: none !important; }` so we also need the `!important` here to be able to override the default hidden behavior on the sphinx rendered scikit-learn.org. See: https://github.com/scikit-learn/scikit-learn/issues/21755 */display: inline-block !important;position: relative;}#sk-container-id-3 div.sk-text-repr-fallback {display: none;}</style><div id=\"sk-container-id-3\" class=\"sk-top-container\"><div class=\"sk-text-repr-fallback\"><pre>SVR(kernel=&#x27;linear&#x27;)</pre><b>In a Jupyter environment, please rerun this cell to show the HTML representation or trust the notebook. <br />On GitHub, the HTML representation is unable to render, please try loading this page with nbviewer.org.</b></div><div class=\"sk-container\" hidden><div class=\"sk-item\"><div class=\"sk-estimator sk-toggleable\"><input class=\"sk-toggleable__control sk-hidden--visually\" id=\"sk-estimator-id-5\" type=\"checkbox\" checked><label for=\"sk-estimator-id-5\" class=\"sk-toggleable__label sk-toggleable__label-arrow\">SVR</label><div class=\"sk-toggleable__content\"><pre>SVR(kernel=&#x27;linear&#x27;)</pre></div></div></div></div></div>"
            ]
          },
          "metadata": {},
          "execution_count": 41
        }
      ]
    },
    {
      "cell_type": "code",
      "source": [
        "svr.coef_   # coefficient"
      ],
      "metadata": {
        "colab": {
          "base_uri": "https://localhost:8080/"
        },
        "id": "TBtigPdGUIQc",
        "outputId": "a1f4fb12-c9ce-4382-9b89-b232739bb6f6"
      },
      "execution_count": 42,
      "outputs": [
        {
          "output_type": "execute_result",
          "data": {
            "text/plain": [
              "array([[65.80827837,  6.87552115]])"
            ]
          },
          "metadata": {},
          "execution_count": 42
        }
      ]
    },
    {
      "cell_type": "code",
      "source": [
        "## Prediction\n",
        "\n",
        "y_pred=svr.predict(X_test)"
      ],
      "metadata": {
        "id": "pI4_4k2FUKYq"
      },
      "execution_count": 43,
      "outputs": []
    },
    {
      "cell_type": "code",
      "source": [
        "y_pred"
      ],
      "metadata": {
        "collapsed": true,
        "colab": {
          "base_uri": "https://localhost:8080/"
        },
        "id": "HOO-BsVtUM6z",
        "outputId": "51062de6-9ecd-432b-95b4-84e8b752820a"
      },
      "execution_count": 44,
      "outputs": [
        {
          "output_type": "execute_result",
          "data": {
            "text/plain": [
              "array([-3.85915528e+00, -2.47359268e+01, -1.25968481e+02, -2.86230806e+01,\n",
              "        1.47629753e+01,  3.48556123e+01,  6.38875163e+01, -1.76669580e+01,\n",
              "        1.64796627e+01, -3.93369507e+01, -1.52123711e+02, -1.05720026e+02,\n",
              "        3.60691067e+01,  1.16818984e+02,  1.16915365e+01,  9.14698301e+01,\n",
              "       -5.89594382e+01,  7.13522296e+01,  1.33806748e+02,  7.03237159e+01,\n",
              "        1.37308540e+01,  9.01393338e+01, -4.93080483e+01,  3.29416694e+01,\n",
              "       -2.96998993e+01, -9.38722270e+01, -4.98982315e+01, -1.88161715e+01,\n",
              "        2.96434599e+01,  3.73578620e+01, -2.23802334e+01, -2.47854363e+01,\n",
              "       -1.07150664e+01, -7.16783992e+01, -3.68391080e+00, -5.66402708e+01,\n",
              "       -1.81637437e+01, -9.06903099e+01,  8.42042113e+01,  3.51928847e+01,\n",
              "        8.26254543e+01, -8.29719597e+00, -5.58349386e+01, -1.43895234e+01,\n",
              "       -1.08774447e+02,  1.36061660e+01,  4.93764802e+01,  3.72074550e+01,\n",
              "        6.20059170e+01,  8.80581216e+01, -6.60827933e+00,  1.69655819e+01,\n",
              "       -1.00644862e+01, -2.18737887e+01, -2.30751293e+00,  9.71490466e+01,\n",
              "        9.55684852e+01, -1.73785726e+02,  6.12417026e+01,  3.98149294e+01,\n",
              "       -3.48083164e+01,  1.17525851e+01, -3.35330394e+01,  6.52052432e+01,\n",
              "        7.74923142e+01,  1.81327682e+01,  1.39291965e+02,  6.74820118e+01,\n",
              "        2.93645102e+01,  2.53811238e+01, -3.91894734e+01,  1.14147069e+02,\n",
              "        6.39908788e+01,  8.55064079e+01, -6.17556722e+01, -3.97874843e+01,\n",
              "        5.13877999e+01, -1.20136497e+02, -4.08331773e+01,  3.12613103e+01,\n",
              "       -1.16396458e+01, -3.49617423e+01,  5.70797208e+01, -3.00472526e+01,\n",
              "       -3.37729174e+00, -7.70790434e+01,  3.62520475e+01, -3.01818710e+01,\n",
              "       -1.06823716e+02, -7.09113276e+01, -7.54478140e+01,  7.06497633e+01,\n",
              "        1.06726224e+01, -1.68370943e+01,  4.26273802e+01,  1.63669263e+00,\n",
              "       -7.71147686e+01, -7.37354334e+01,  1.23301166e+01,  4.77916600e-02,\n",
              "        2.68651742e+01,  1.02840375e+02,  3.07961823e+01,  2.64090145e+01,\n",
              "       -8.79928947e+01,  3.16164363e+01,  3.68981706e+01, -2.51658558e+01,\n",
              "        3.05189959e+01, -4.35612650e+01,  4.40416009e+01, -4.93421832e+01,\n",
              "        3.18058990e+01,  7.86855960e+01,  1.29924351e+01,  7.34340119e+01,\n",
              "        8.35071839e+01, -5.14285694e+01, -1.83808418e+01, -1.10324803e+02,\n",
              "       -4.54520717e+00,  7.53471480e+00,  5.39633443e+01, -1.98072145e+01,\n",
              "        9.98595400e+01,  1.38333413e+01,  1.16532876e+02, -9.16424898e+01,\n",
              "        1.09843757e+02, -1.26258375e+02,  7.32253072e+01,  2.58455799e+01,\n",
              "        9.73847781e+01, -3.48268823e+01, -2.73142591e+01, -1.13106326e+01,\n",
              "       -1.64283986e+01, -8.34392804e+01, -2.83420564e+01, -4.95835895e+01,\n",
              "        7.61297230e+01,  5.30733149e+01,  9.34080385e+01, -1.04314032e+02,\n",
              "        6.54849389e+01,  1.17197592e+02,  5.58314561e+01, -6.83604435e+01,\n",
              "        4.82708328e+01,  5.37885277e-02, -2.30838692e+01,  5.63641711e+01,\n",
              "        5.05196167e+01,  1.19892460e+01, -4.46601405e+01,  1.70751155e+01,\n",
              "        4.28080486e+01, -7.19679200e+01,  5.96717472e+01,  1.64873895e+00,\n",
              "        4.86645053e+01,  4.40405755e+01, -9.12872207e+01,  1.93574635e+01,\n",
              "       -9.72971096e+00,  4.02605345e+01,  1.35396595e+01,  2.94288599e+01,\n",
              "       -3.69540868e-01, -5.46288761e+00,  5.80952303e+01,  1.01761037e+02,\n",
              "        1.35982962e+02, -3.07962113e+01,  2.35485429e+01,  4.68322272e+01,\n",
              "        1.61077990e+01,  1.10164758e+02, -1.64523632e+02, -8.45007257e+01,\n",
              "       -3.46718193e+01, -5.31524192e+01,  1.08751403e+01,  2.52847113e+01,\n",
              "        1.18998415e+02, -6.16670033e+01,  4.44640082e+01,  1.55231605e+02,\n",
              "        3.87178632e+01,  3.05729773e+01, -2.83061346e+01,  8.87440217e+00,\n",
              "        9.26067303e+01, -1.27851570e+02,  1.05913957e+01, -3.75449527e+01,\n",
              "        7.22153443e+01,  9.02964144e+01,  7.92915903e+01, -4.62947554e+01,\n",
              "        5.11860994e+01, -7.13552201e+00,  4.92305445e+00, -6.56277207e+01,\n",
              "       -4.67020711e+00,  1.77164244e+01,  4.76066084e+01, -7.83697054e+00,\n",
              "        8.56414287e+01, -5.93482311e+00,  1.00760622e+01,  9.47350069e+00,\n",
              "        2.09764845e+02, -7.59454861e+01, -5.22239547e+01,  3.10266371e+00,\n",
              "        2.23530875e-01,  4.08073756e+01,  9.07794395e+01,  9.56818973e+01,\n",
              "        6.76331234e+01,  1.50470469e+01, -1.95990669e+01,  3.28151596e-01,\n",
              "        3.83674464e+01, -3.66594647e+01, -9.04539459e+00,  7.45606080e+01,\n",
              "        8.36231656e+01,  8.29196564e+01,  5.11575105e+01,  7.36220552e+01,\n",
              "        7.07768921e+01,  3.38137090e+01,  3.99005373e+01,  1.02373027e+02,\n",
              "        1.92847626e+02, -4.20798172e+01,  1.64933410e+02, -1.12434699e+01,\n",
              "        3.76686777e+01,  2.53304633e+00,  1.70768836e+01,  1.49555430e+02,\n",
              "        9.38608617e+01, -7.70314305e+01,  7.23638114e+01,  6.22373138e+01,\n",
              "        1.22227102e+02,  2.96022915e+01])"
            ]
          },
          "metadata": {},
          "execution_count": 44
        }
      ]
    },
    {
      "cell_type": "markdown",
      "source": [
        "# Pull the r2 score"
      ],
      "metadata": {
        "id": "n98taYobUQr5"
      }
    },
    {
      "cell_type": "code",
      "source": [
        "from sklearn.metrics import r2_score"
      ],
      "metadata": {
        "id": "COU2bZi2UN-7"
      },
      "execution_count": 45,
      "outputs": []
    },
    {
      "cell_type": "code",
      "source": [
        "print(r2_score(y_test,y_pred))"
      ],
      "metadata": {
        "colab": {
          "base_uri": "https://localhost:8080/"
        },
        "id": "hTi69-ryUXAG",
        "outputId": "1b90327c-3f80-4bb8-be69-ef451d822464"
      },
      "execution_count": 46,
      "outputs": [
        {
          "output_type": "stream",
          "name": "stdout",
          "text": [
            "0.9973526563558306\n"
          ]
        }
      ]
    },
    {
      "cell_type": "markdown",
      "source": [
        "# Hyperparametere Tuning With SVR"
      ],
      "metadata": {
        "id": "4q0nN1dtUZA2"
      }
    },
    {
      "cell_type": "code",
      "source": [
        "from sklearn.model_selection import GridSearchCV\n",
        "\n",
        "# defining parameter range\n",
        "param_grid = {'C': [0.1, 1, 10, 100, 1000],\n",
        "              'gamma': [1, 0.1, 0.01, 0.001, 0.0001],\n",
        "              'kernel':['linear'],\n",
        "              'epsilon':[0.1,0.2,0.3]\n",
        "              }"
      ],
      "metadata": {
        "id": "zSXhmPuFUYBy"
      },
      "execution_count": 47,
      "outputs": []
    },
    {
      "cell_type": "code",
      "source": [
        "grid=GridSearchCV(SVR(),param_grid=param_grid,refit=True,cv=5,verbose=3)"
      ],
      "metadata": {
        "id": "kwxr4aquUb7c"
      },
      "execution_count": 48,
      "outputs": []
    },
    {
      "cell_type": "code",
      "source": [
        "grid.fit(X_train,y_train)"
      ],
      "metadata": {
        "colab": {
          "base_uri": "https://localhost:8080/",
          "height": 1000
        },
        "collapsed": true,
        "id": "JGIBQzZZUdLb",
        "outputId": "62653a21-1e0f-4afa-f212-cf39ccb8cf78"
      },
      "execution_count": 49,
      "outputs": [
        {
          "output_type": "stream",
          "name": "stdout",
          "text": [
            "Fitting 5 folds for each of 75 candidates, totalling 375 fits\n",
            "[CV 1/5] END C=0.1, epsilon=0.1, gamma=1, kernel=linear;, score=0.915 total time=   0.0s\n",
            "[CV 2/5] END C=0.1, epsilon=0.1, gamma=1, kernel=linear;, score=0.915 total time=   0.0s\n",
            "[CV 3/5] END C=0.1, epsilon=0.1, gamma=1, kernel=linear;, score=0.908 total time=   0.0s\n",
            "[CV 4/5] END C=0.1, epsilon=0.1, gamma=1, kernel=linear;, score=0.915 total time=   0.0s\n",
            "[CV 5/5] END C=0.1, epsilon=0.1, gamma=1, kernel=linear;, score=0.907 total time=   0.0s\n",
            "[CV 1/5] END C=0.1, epsilon=0.1, gamma=0.1, kernel=linear;, score=0.915 total time=   0.0s\n",
            "[CV 2/5] END C=0.1, epsilon=0.1, gamma=0.1, kernel=linear;, score=0.915 total time=   0.0s\n",
            "[CV 3/5] END C=0.1, epsilon=0.1, gamma=0.1, kernel=linear;, score=0.908 total time=   0.0s\n",
            "[CV 4/5] END C=0.1, epsilon=0.1, gamma=0.1, kernel=linear;, score=0.915 total time=   0.0s\n",
            "[CV 5/5] END C=0.1, epsilon=0.1, gamma=0.1, kernel=linear;, score=0.907 total time=   0.0s\n",
            "[CV 1/5] END C=0.1, epsilon=0.1, gamma=0.01, kernel=linear;, score=0.915 total time=   0.0s\n",
            "[CV 2/5] END C=0.1, epsilon=0.1, gamma=0.01, kernel=linear;, score=0.915 total time=   0.0s\n",
            "[CV 3/5] END C=0.1, epsilon=0.1, gamma=0.01, kernel=linear;, score=0.908 total time=   0.0s\n",
            "[CV 4/5] END C=0.1, epsilon=0.1, gamma=0.01, kernel=linear;, score=0.915 total time=   0.0s\n",
            "[CV 5/5] END C=0.1, epsilon=0.1, gamma=0.01, kernel=linear;, score=0.907 total time=   0.0s\n",
            "[CV 1/5] END C=0.1, epsilon=0.1, gamma=0.001, kernel=linear;, score=0.915 total time=   0.0s\n",
            "[CV 2/5] END C=0.1, epsilon=0.1, gamma=0.001, kernel=linear;, score=0.915 total time=   0.0s\n",
            "[CV 3/5] END C=0.1, epsilon=0.1, gamma=0.001, kernel=linear;, score=0.908 total time=   0.0s\n",
            "[CV 4/5] END C=0.1, epsilon=0.1, gamma=0.001, kernel=linear;, score=0.915 total time=   0.0s\n",
            "[CV 5/5] END C=0.1, epsilon=0.1, gamma=0.001, kernel=linear;, score=0.907 total time=   0.0s\n",
            "[CV 1/5] END C=0.1, epsilon=0.1, gamma=0.0001, kernel=linear;, score=0.915 total time=   0.0s\n",
            "[CV 2/5] END C=0.1, epsilon=0.1, gamma=0.0001, kernel=linear;, score=0.915 total time=   0.0s\n",
            "[CV 3/5] END C=0.1, epsilon=0.1, gamma=0.0001, kernel=linear;, score=0.908 total time=   0.0s\n",
            "[CV 4/5] END C=0.1, epsilon=0.1, gamma=0.0001, kernel=linear;, score=0.915 total time=   0.0s\n",
            "[CV 5/5] END C=0.1, epsilon=0.1, gamma=0.0001, kernel=linear;, score=0.907 total time=   0.0s\n",
            "[CV 1/5] END C=0.1, epsilon=0.2, gamma=1, kernel=linear;, score=0.915 total time=   0.0s\n",
            "[CV 2/5] END C=0.1, epsilon=0.2, gamma=1, kernel=linear;, score=0.915 total time=   0.0s\n",
            "[CV 3/5] END C=0.1, epsilon=0.2, gamma=1, kernel=linear;, score=0.908 total time=   0.0s\n",
            "[CV 4/5] END C=0.1, epsilon=0.2, gamma=1, kernel=linear;, score=0.915 total time=   0.0s\n",
            "[CV 5/5] END C=0.1, epsilon=0.2, gamma=1, kernel=linear;, score=0.907 total time=   0.0s\n",
            "[CV 1/5] END C=0.1, epsilon=0.2, gamma=0.1, kernel=linear;, score=0.915 total time=   0.0s\n",
            "[CV 2/5] END C=0.1, epsilon=0.2, gamma=0.1, kernel=linear;, score=0.915 total time=   0.0s\n",
            "[CV 3/5] END C=0.1, epsilon=0.2, gamma=0.1, kernel=linear;, score=0.908 total time=   0.0s\n",
            "[CV 4/5] END C=0.1, epsilon=0.2, gamma=0.1, kernel=linear;, score=0.915 total time=   0.0s\n",
            "[CV 5/5] END C=0.1, epsilon=0.2, gamma=0.1, kernel=linear;, score=0.907 total time=   0.0s\n",
            "[CV 1/5] END C=0.1, epsilon=0.2, gamma=0.01, kernel=linear;, score=0.915 total time=   0.0s\n",
            "[CV 2/5] END C=0.1, epsilon=0.2, gamma=0.01, kernel=linear;, score=0.915 total time=   0.0s\n",
            "[CV 3/5] END C=0.1, epsilon=0.2, gamma=0.01, kernel=linear;, score=0.908 total time=   0.0s\n",
            "[CV 4/5] END C=0.1, epsilon=0.2, gamma=0.01, kernel=linear;, score=0.915 total time=   0.0s\n",
            "[CV 5/5] END C=0.1, epsilon=0.2, gamma=0.01, kernel=linear;, score=0.907 total time=   0.0s\n",
            "[CV 1/5] END C=0.1, epsilon=0.2, gamma=0.001, kernel=linear;, score=0.915 total time=   0.0s\n",
            "[CV 2/5] END C=0.1, epsilon=0.2, gamma=0.001, kernel=linear;, score=0.915 total time=   0.0s\n",
            "[CV 3/5] END C=0.1, epsilon=0.2, gamma=0.001, kernel=linear;, score=0.908 total time=   0.0s\n",
            "[CV 4/5] END C=0.1, epsilon=0.2, gamma=0.001, kernel=linear;, score=0.915 total time=   0.0s\n",
            "[CV 5/5] END C=0.1, epsilon=0.2, gamma=0.001, kernel=linear;, score=0.907 total time=   0.0s\n",
            "[CV 1/5] END C=0.1, epsilon=0.2, gamma=0.0001, kernel=linear;, score=0.915 total time=   0.0s\n",
            "[CV 2/5] END C=0.1, epsilon=0.2, gamma=0.0001, kernel=linear;, score=0.915 total time=   0.0s\n",
            "[CV 3/5] END C=0.1, epsilon=0.2, gamma=0.0001, kernel=linear;, score=0.908 total time=   0.1s\n",
            "[CV 4/5] END C=0.1, epsilon=0.2, gamma=0.0001, kernel=linear;, score=0.915 total time=   0.0s\n",
            "[CV 5/5] END C=0.1, epsilon=0.2, gamma=0.0001, kernel=linear;, score=0.907 total time=   0.0s\n",
            "[CV 1/5] END C=0.1, epsilon=0.3, gamma=1, kernel=linear;, score=0.914 total time=   0.0s\n",
            "[CV 2/5] END C=0.1, epsilon=0.3, gamma=1, kernel=linear;, score=0.915 total time=   0.0s\n",
            "[CV 3/5] END C=0.1, epsilon=0.3, gamma=1, kernel=linear;, score=0.908 total time=   0.0s\n",
            "[CV 4/5] END C=0.1, epsilon=0.3, gamma=1, kernel=linear;, score=0.915 total time=   0.0s\n",
            "[CV 5/5] END C=0.1, epsilon=0.3, gamma=1, kernel=linear;, score=0.907 total time=   0.0s\n",
            "[CV 1/5] END C=0.1, epsilon=0.3, gamma=0.1, kernel=linear;, score=0.914 total time=   0.0s\n",
            "[CV 2/5] END C=0.1, epsilon=0.3, gamma=0.1, kernel=linear;, score=0.915 total time=   0.0s\n",
            "[CV 3/5] END C=0.1, epsilon=0.3, gamma=0.1, kernel=linear;, score=0.908 total time=   0.0s\n",
            "[CV 4/5] END C=0.1, epsilon=0.3, gamma=0.1, kernel=linear;, score=0.915 total time=   0.0s\n",
            "[CV 5/5] END C=0.1, epsilon=0.3, gamma=0.1, kernel=linear;, score=0.907 total time=   0.0s\n",
            "[CV 1/5] END C=0.1, epsilon=0.3, gamma=0.01, kernel=linear;, score=0.914 total time=   0.0s\n",
            "[CV 2/5] END C=0.1, epsilon=0.3, gamma=0.01, kernel=linear;, score=0.915 total time=   0.0s\n",
            "[CV 3/5] END C=0.1, epsilon=0.3, gamma=0.01, kernel=linear;, score=0.908 total time=   0.0s\n",
            "[CV 4/5] END C=0.1, epsilon=0.3, gamma=0.01, kernel=linear;, score=0.915 total time=   0.0s\n",
            "[CV 5/5] END C=0.1, epsilon=0.3, gamma=0.01, kernel=linear;, score=0.907 total time=   0.0s\n",
            "[CV 1/5] END C=0.1, epsilon=0.3, gamma=0.001, kernel=linear;, score=0.914 total time=   0.0s\n",
            "[CV 2/5] END C=0.1, epsilon=0.3, gamma=0.001, kernel=linear;, score=0.915 total time=   0.0s\n",
            "[CV 3/5] END C=0.1, epsilon=0.3, gamma=0.001, kernel=linear;, score=0.908 total time=   0.0s\n",
            "[CV 4/5] END C=0.1, epsilon=0.3, gamma=0.001, kernel=linear;, score=0.915 total time=   0.0s\n",
            "[CV 5/5] END C=0.1, epsilon=0.3, gamma=0.001, kernel=linear;, score=0.907 total time=   0.0s\n",
            "[CV 1/5] END C=0.1, epsilon=0.3, gamma=0.0001, kernel=linear;, score=0.914 total time=   0.0s\n",
            "[CV 2/5] END C=0.1, epsilon=0.3, gamma=0.0001, kernel=linear;, score=0.915 total time=   0.0s\n",
            "[CV 3/5] END C=0.1, epsilon=0.3, gamma=0.0001, kernel=linear;, score=0.908 total time=   0.0s\n",
            "[CV 4/5] END C=0.1, epsilon=0.3, gamma=0.0001, kernel=linear;, score=0.915 total time=   0.0s\n",
            "[CV 5/5] END C=0.1, epsilon=0.3, gamma=0.0001, kernel=linear;, score=0.907 total time=   0.0s\n",
            "[CV 1/5] END C=1, epsilon=0.1, gamma=1, kernel=linear;, score=0.998 total time=   0.1s\n",
            "[CV 2/5] END C=1, epsilon=0.1, gamma=1, kernel=linear;, score=0.998 total time=   0.1s\n",
            "[CV 3/5] END C=1, epsilon=0.1, gamma=1, kernel=linear;, score=0.998 total time=   0.0s\n",
            "[CV 4/5] END C=1, epsilon=0.1, gamma=1, kernel=linear;, score=0.998 total time=   0.0s\n",
            "[CV 5/5] END C=1, epsilon=0.1, gamma=1, kernel=linear;, score=0.998 total time=   0.0s\n",
            "[CV 1/5] END C=1, epsilon=0.1, gamma=0.1, kernel=linear;, score=0.998 total time=   0.0s\n",
            "[CV 2/5] END C=1, epsilon=0.1, gamma=0.1, kernel=linear;, score=0.998 total time=   0.0s\n",
            "[CV 3/5] END C=1, epsilon=0.1, gamma=0.1, kernel=linear;, score=0.998 total time=   0.0s\n",
            "[CV 4/5] END C=1, epsilon=0.1, gamma=0.1, kernel=linear;, score=0.998 total time=   0.0s\n",
            "[CV 5/5] END C=1, epsilon=0.1, gamma=0.1, kernel=linear;, score=0.998 total time=   0.0s\n",
            "[CV 1/5] END C=1, epsilon=0.1, gamma=0.01, kernel=linear;, score=0.998 total time=   0.0s\n",
            "[CV 2/5] END C=1, epsilon=0.1, gamma=0.01, kernel=linear;, score=0.998 total time=   0.0s\n",
            "[CV 3/5] END C=1, epsilon=0.1, gamma=0.01, kernel=linear;, score=0.998 total time=   0.0s\n",
            "[CV 4/5] END C=1, epsilon=0.1, gamma=0.01, kernel=linear;, score=0.998 total time=   0.1s\n",
            "[CV 5/5] END C=1, epsilon=0.1, gamma=0.01, kernel=linear;, score=0.998 total time=   0.0s\n",
            "[CV 1/5] END C=1, epsilon=0.1, gamma=0.001, kernel=linear;, score=0.998 total time=   0.0s\n",
            "[CV 2/5] END C=1, epsilon=0.1, gamma=0.001, kernel=linear;, score=0.998 total time=   0.0s\n",
            "[CV 3/5] END C=1, epsilon=0.1, gamma=0.001, kernel=linear;, score=0.998 total time=   0.0s\n",
            "[CV 4/5] END C=1, epsilon=0.1, gamma=0.001, kernel=linear;, score=0.998 total time=   0.0s\n",
            "[CV 5/5] END C=1, epsilon=0.1, gamma=0.001, kernel=linear;, score=0.998 total time=   0.0s\n",
            "[CV 1/5] END C=1, epsilon=0.1, gamma=0.0001, kernel=linear;, score=0.998 total time=   0.0s\n",
            "[CV 2/5] END C=1, epsilon=0.1, gamma=0.0001, kernel=linear;, score=0.998 total time=   0.0s\n",
            "[CV 3/5] END C=1, epsilon=0.1, gamma=0.0001, kernel=linear;, score=0.998 total time=   0.0s\n",
            "[CV 4/5] END C=1, epsilon=0.1, gamma=0.0001, kernel=linear;, score=0.998 total time=   0.0s\n",
            "[CV 5/5] END C=1, epsilon=0.1, gamma=0.0001, kernel=linear;, score=0.998 total time=   0.0s\n",
            "[CV 1/5] END C=1, epsilon=0.2, gamma=1, kernel=linear;, score=0.998 total time=   0.0s\n",
            "[CV 2/5] END C=1, epsilon=0.2, gamma=1, kernel=linear;, score=0.998 total time=   0.0s\n",
            "[CV 3/5] END C=1, epsilon=0.2, gamma=1, kernel=linear;, score=0.998 total time=   0.0s\n",
            "[CV 4/5] END C=1, epsilon=0.2, gamma=1, kernel=linear;, score=0.998 total time=   0.0s\n",
            "[CV 5/5] END C=1, epsilon=0.2, gamma=1, kernel=linear;, score=0.998 total time=   0.0s\n",
            "[CV 1/5] END C=1, epsilon=0.2, gamma=0.1, kernel=linear;, score=0.998 total time=   0.1s\n",
            "[CV 2/5] END C=1, epsilon=0.2, gamma=0.1, kernel=linear;, score=0.998 total time=   0.0s\n",
            "[CV 3/5] END C=1, epsilon=0.2, gamma=0.1, kernel=linear;, score=0.998 total time=   0.0s\n",
            "[CV 4/5] END C=1, epsilon=0.2, gamma=0.1, kernel=linear;, score=0.998 total time=   0.0s\n",
            "[CV 5/5] END C=1, epsilon=0.2, gamma=0.1, kernel=linear;, score=0.998 total time=   0.0s\n",
            "[CV 1/5] END C=1, epsilon=0.2, gamma=0.01, kernel=linear;, score=0.998 total time=   0.1s\n",
            "[CV 2/5] END C=1, epsilon=0.2, gamma=0.01, kernel=linear;, score=0.998 total time=   0.0s\n",
            "[CV 3/5] END C=1, epsilon=0.2, gamma=0.01, kernel=linear;, score=0.998 total time=   0.0s\n",
            "[CV 4/5] END C=1, epsilon=0.2, gamma=0.01, kernel=linear;, score=0.998 total time=   0.0s\n",
            "[CV 5/5] END C=1, epsilon=0.2, gamma=0.01, kernel=linear;, score=0.998 total time=   0.0s\n",
            "[CV 1/5] END C=1, epsilon=0.2, gamma=0.001, kernel=linear;, score=0.998 total time=   0.0s\n",
            "[CV 2/5] END C=1, epsilon=0.2, gamma=0.001, kernel=linear;, score=0.998 total time=   0.0s\n",
            "[CV 3/5] END C=1, epsilon=0.2, gamma=0.001, kernel=linear;, score=0.998 total time=   0.0s\n",
            "[CV 4/5] END C=1, epsilon=0.2, gamma=0.001, kernel=linear;, score=0.998 total time=   0.0s\n",
            "[CV 5/5] END C=1, epsilon=0.2, gamma=0.001, kernel=linear;, score=0.998 total time=   0.0s\n",
            "[CV 1/5] END C=1, epsilon=0.2, gamma=0.0001, kernel=linear;, score=0.998 total time=   0.0s\n",
            "[CV 2/5] END C=1, epsilon=0.2, gamma=0.0001, kernel=linear;, score=0.998 total time=   0.0s\n",
            "[CV 3/5] END C=1, epsilon=0.2, gamma=0.0001, kernel=linear;, score=0.998 total time=   0.0s\n",
            "[CV 4/5] END C=1, epsilon=0.2, gamma=0.0001, kernel=linear;, score=0.998 total time=   0.0s\n",
            "[CV 5/5] END C=1, epsilon=0.2, gamma=0.0001, kernel=linear;, score=0.998 total time=   0.0s\n",
            "[CV 1/5] END C=1, epsilon=0.3, gamma=1, kernel=linear;, score=0.998 total time=   0.0s\n",
            "[CV 2/5] END C=1, epsilon=0.3, gamma=1, kernel=linear;, score=0.998 total time=   0.0s\n",
            "[CV 3/5] END C=1, epsilon=0.3, gamma=1, kernel=linear;, score=0.998 total time=   0.0s\n",
            "[CV 4/5] END C=1, epsilon=0.3, gamma=1, kernel=linear;, score=0.998 total time=   0.0s\n",
            "[CV 5/5] END C=1, epsilon=0.3, gamma=1, kernel=linear;, score=0.998 total time=   0.0s\n",
            "[CV 1/5] END C=1, epsilon=0.3, gamma=0.1, kernel=linear;, score=0.998 total time=   0.0s\n",
            "[CV 2/5] END C=1, epsilon=0.3, gamma=0.1, kernel=linear;, score=0.998 total time=   0.0s\n",
            "[CV 3/5] END C=1, epsilon=0.3, gamma=0.1, kernel=linear;, score=0.998 total time=   0.0s\n",
            "[CV 4/5] END C=1, epsilon=0.3, gamma=0.1, kernel=linear;, score=0.998 total time=   0.0s\n",
            "[CV 5/5] END C=1, epsilon=0.3, gamma=0.1, kernel=linear;, score=0.998 total time=   0.0s\n",
            "[CV 1/5] END C=1, epsilon=0.3, gamma=0.01, kernel=linear;, score=0.998 total time=   0.0s\n",
            "[CV 2/5] END C=1, epsilon=0.3, gamma=0.01, kernel=linear;, score=0.998 total time=   0.0s\n",
            "[CV 3/5] END C=1, epsilon=0.3, gamma=0.01, kernel=linear;, score=0.998 total time=   0.0s\n",
            "[CV 4/5] END C=1, epsilon=0.3, gamma=0.01, kernel=linear;, score=0.998 total time=   0.0s\n",
            "[CV 5/5] END C=1, epsilon=0.3, gamma=0.01, kernel=linear;, score=0.998 total time=   0.0s\n",
            "[CV 1/5] END C=1, epsilon=0.3, gamma=0.001, kernel=linear;, score=0.998 total time=   0.0s\n",
            "[CV 2/5] END C=1, epsilon=0.3, gamma=0.001, kernel=linear;, score=0.998 total time=   0.0s\n",
            "[CV 3/5] END C=1, epsilon=0.3, gamma=0.001, kernel=linear;, score=0.998 total time=   0.0s\n",
            "[CV 4/5] END C=1, epsilon=0.3, gamma=0.001, kernel=linear;, score=0.998 total time=   0.0s\n",
            "[CV 5/5] END C=1, epsilon=0.3, gamma=0.001, kernel=linear;, score=0.998 total time=   0.0s\n",
            "[CV 1/5] END C=1, epsilon=0.3, gamma=0.0001, kernel=linear;, score=0.998 total time=   0.0s\n",
            "[CV 2/5] END C=1, epsilon=0.3, gamma=0.0001, kernel=linear;, score=0.998 total time=   0.0s\n",
            "[CV 3/5] END C=1, epsilon=0.3, gamma=0.0001, kernel=linear;, score=0.998 total time=   0.0s\n",
            "[CV 4/5] END C=1, epsilon=0.3, gamma=0.0001, kernel=linear;, score=0.998 total time=   0.0s\n",
            "[CV 5/5] END C=1, epsilon=0.3, gamma=0.0001, kernel=linear;, score=0.998 total time=   0.0s\n",
            "[CV 1/5] END C=10, epsilon=0.1, gamma=1, kernel=linear;, score=0.998 total time=   0.1s\n",
            "[CV 2/5] END C=10, epsilon=0.1, gamma=1, kernel=linear;, score=0.998 total time=   0.1s\n",
            "[CV 3/5] END C=10, epsilon=0.1, gamma=1, kernel=linear;, score=0.998 total time=   0.1s\n",
            "[CV 4/5] END C=10, epsilon=0.1, gamma=1, kernel=linear;, score=0.998 total time=   0.1s\n",
            "[CV 5/5] END C=10, epsilon=0.1, gamma=1, kernel=linear;, score=0.998 total time=   0.1s\n",
            "[CV 1/5] END C=10, epsilon=0.1, gamma=0.1, kernel=linear;, score=0.998 total time=   0.1s\n",
            "[CV 2/5] END C=10, epsilon=0.1, gamma=0.1, kernel=linear;, score=0.998 total time=   0.1s\n",
            "[CV 3/5] END C=10, epsilon=0.1, gamma=0.1, kernel=linear;, score=0.998 total time=   0.1s\n",
            "[CV 4/5] END C=10, epsilon=0.1, gamma=0.1, kernel=linear;, score=0.998 total time=   0.1s\n",
            "[CV 5/5] END C=10, epsilon=0.1, gamma=0.1, kernel=linear;, score=0.998 total time=   0.1s\n",
            "[CV 1/5] END C=10, epsilon=0.1, gamma=0.01, kernel=linear;, score=0.998 total time=   0.1s\n",
            "[CV 2/5] END C=10, epsilon=0.1, gamma=0.01, kernel=linear;, score=0.998 total time=   0.1s\n",
            "[CV 3/5] END C=10, epsilon=0.1, gamma=0.01, kernel=linear;, score=0.998 total time=   0.1s\n",
            "[CV 4/5] END C=10, epsilon=0.1, gamma=0.01, kernel=linear;, score=0.998 total time=   0.1s\n",
            "[CV 5/5] END C=10, epsilon=0.1, gamma=0.01, kernel=linear;, score=0.998 total time=   0.1s\n",
            "[CV 1/5] END C=10, epsilon=0.1, gamma=0.001, kernel=linear;, score=0.998 total time=   0.1s\n",
            "[CV 2/5] END C=10, epsilon=0.1, gamma=0.001, kernel=linear;, score=0.998 total time=   0.1s\n",
            "[CV 3/5] END C=10, epsilon=0.1, gamma=0.001, kernel=linear;, score=0.998 total time=   0.1s\n",
            "[CV 4/5] END C=10, epsilon=0.1, gamma=0.001, kernel=linear;, score=0.998 total time=   0.1s\n",
            "[CV 5/5] END C=10, epsilon=0.1, gamma=0.001, kernel=linear;, score=0.998 total time=   0.1s\n",
            "[CV 1/5] END C=10, epsilon=0.1, gamma=0.0001, kernel=linear;, score=0.998 total time=   0.1s\n",
            "[CV 2/5] END C=10, epsilon=0.1, gamma=0.0001, kernel=linear;, score=0.998 total time=   0.1s\n",
            "[CV 3/5] END C=10, epsilon=0.1, gamma=0.0001, kernel=linear;, score=0.998 total time=   0.1s\n",
            "[CV 4/5] END C=10, epsilon=0.1, gamma=0.0001, kernel=linear;, score=0.998 total time=   0.1s\n",
            "[CV 5/5] END C=10, epsilon=0.1, gamma=0.0001, kernel=linear;, score=0.998 total time=   0.1s\n",
            "[CV 1/5] END C=10, epsilon=0.2, gamma=1, kernel=linear;, score=0.998 total time=   0.1s\n",
            "[CV 2/5] END C=10, epsilon=0.2, gamma=1, kernel=linear;, score=0.998 total time=   0.1s\n",
            "[CV 3/5] END C=10, epsilon=0.2, gamma=1, kernel=linear;, score=0.998 total time=   0.1s\n",
            "[CV 4/5] END C=10, epsilon=0.2, gamma=1, kernel=linear;, score=0.998 total time=   0.1s\n",
            "[CV 5/5] END C=10, epsilon=0.2, gamma=1, kernel=linear;, score=0.998 total time=   0.1s\n",
            "[CV 1/5] END C=10, epsilon=0.2, gamma=0.1, kernel=linear;, score=0.998 total time=   0.1s\n",
            "[CV 2/5] END C=10, epsilon=0.2, gamma=0.1, kernel=linear;, score=0.998 total time=   0.1s\n",
            "[CV 3/5] END C=10, epsilon=0.2, gamma=0.1, kernel=linear;, score=0.998 total time=   0.1s\n",
            "[CV 4/5] END C=10, epsilon=0.2, gamma=0.1, kernel=linear;, score=0.998 total time=   0.1s\n",
            "[CV 5/5] END C=10, epsilon=0.2, gamma=0.1, kernel=linear;, score=0.998 total time=   0.1s\n",
            "[CV 1/5] END C=10, epsilon=0.2, gamma=0.01, kernel=linear;, score=0.998 total time=   0.1s\n",
            "[CV 2/5] END C=10, epsilon=0.2, gamma=0.01, kernel=linear;, score=0.998 total time=   0.1s\n",
            "[CV 3/5] END C=10, epsilon=0.2, gamma=0.01, kernel=linear;, score=0.998 total time=   0.1s\n",
            "[CV 4/5] END C=10, epsilon=0.2, gamma=0.01, kernel=linear;, score=0.998 total time=   0.1s\n",
            "[CV 5/5] END C=10, epsilon=0.2, gamma=0.01, kernel=linear;, score=0.998 total time=   0.1s\n",
            "[CV 1/5] END C=10, epsilon=0.2, gamma=0.001, kernel=linear;, score=0.998 total time=   0.1s\n",
            "[CV 2/5] END C=10, epsilon=0.2, gamma=0.001, kernel=linear;, score=0.998 total time=   0.1s\n",
            "[CV 3/5] END C=10, epsilon=0.2, gamma=0.001, kernel=linear;, score=0.998 total time=   0.1s\n",
            "[CV 4/5] END C=10, epsilon=0.2, gamma=0.001, kernel=linear;, score=0.998 total time=   0.1s\n",
            "[CV 5/5] END C=10, epsilon=0.2, gamma=0.001, kernel=linear;, score=0.998 total time=   0.1s\n",
            "[CV 1/5] END C=10, epsilon=0.2, gamma=0.0001, kernel=linear;, score=0.998 total time=   0.1s\n",
            "[CV 2/5] END C=10, epsilon=0.2, gamma=0.0001, kernel=linear;, score=0.998 total time=   0.1s\n",
            "[CV 3/5] END C=10, epsilon=0.2, gamma=0.0001, kernel=linear;, score=0.998 total time=   0.1s\n",
            "[CV 4/5] END C=10, epsilon=0.2, gamma=0.0001, kernel=linear;, score=0.998 total time=   0.1s\n",
            "[CV 5/5] END C=10, epsilon=0.2, gamma=0.0001, kernel=linear;, score=0.998 total time=   0.1s\n",
            "[CV 1/5] END C=10, epsilon=0.3, gamma=1, kernel=linear;, score=0.998 total time=   0.1s\n",
            "[CV 2/5] END C=10, epsilon=0.3, gamma=1, kernel=linear;, score=0.998 total time=   0.1s\n",
            "[CV 3/5] END C=10, epsilon=0.3, gamma=1, kernel=linear;, score=0.998 total time=   0.1s\n",
            "[CV 4/5] END C=10, epsilon=0.3, gamma=1, kernel=linear;, score=0.998 total time=   0.1s\n",
            "[CV 5/5] END C=10, epsilon=0.3, gamma=1, kernel=linear;, score=0.998 total time=   0.1s\n",
            "[CV 1/5] END C=10, epsilon=0.3, gamma=0.1, kernel=linear;, score=0.998 total time=   0.1s\n",
            "[CV 2/5] END C=10, epsilon=0.3, gamma=0.1, kernel=linear;, score=0.998 total time=   0.1s\n",
            "[CV 3/5] END C=10, epsilon=0.3, gamma=0.1, kernel=linear;, score=0.998 total time=   0.0s\n",
            "[CV 4/5] END C=10, epsilon=0.3, gamma=0.1, kernel=linear;, score=0.998 total time=   0.1s\n",
            "[CV 5/5] END C=10, epsilon=0.3, gamma=0.1, kernel=linear;, score=0.998 total time=   0.0s\n",
            "[CV 1/5] END C=10, epsilon=0.3, gamma=0.01, kernel=linear;, score=0.998 total time=   0.0s\n",
            "[CV 2/5] END C=10, epsilon=0.3, gamma=0.01, kernel=linear;, score=0.998 total time=   0.0s\n",
            "[CV 3/5] END C=10, epsilon=0.3, gamma=0.01, kernel=linear;, score=0.998 total time=   0.0s\n",
            "[CV 4/5] END C=10, epsilon=0.3, gamma=0.01, kernel=linear;, score=0.998 total time=   0.0s\n",
            "[CV 5/5] END C=10, epsilon=0.3, gamma=0.01, kernel=linear;, score=0.998 total time=   0.0s\n",
            "[CV 1/5] END C=10, epsilon=0.3, gamma=0.001, kernel=linear;, score=0.998 total time=   0.0s\n",
            "[CV 2/5] END C=10, epsilon=0.3, gamma=0.001, kernel=linear;, score=0.998 total time=   0.0s\n",
            "[CV 3/5] END C=10, epsilon=0.3, gamma=0.001, kernel=linear;, score=0.998 total time=   0.0s\n",
            "[CV 4/5] END C=10, epsilon=0.3, gamma=0.001, kernel=linear;, score=0.998 total time=   0.0s\n",
            "[CV 5/5] END C=10, epsilon=0.3, gamma=0.001, kernel=linear;, score=0.998 total time=   0.0s\n",
            "[CV 1/5] END C=10, epsilon=0.3, gamma=0.0001, kernel=linear;, score=0.998 total time=   0.0s\n",
            "[CV 2/5] END C=10, epsilon=0.3, gamma=0.0001, kernel=linear;, score=0.998 total time=   0.0s\n",
            "[CV 3/5] END C=10, epsilon=0.3, gamma=0.0001, kernel=linear;, score=0.998 total time=   0.0s\n",
            "[CV 4/5] END C=10, epsilon=0.3, gamma=0.0001, kernel=linear;, score=0.998 total time=   0.0s\n",
            "[CV 5/5] END C=10, epsilon=0.3, gamma=0.0001, kernel=linear;, score=0.998 total time=   0.0s\n",
            "[CV 1/5] END C=100, epsilon=0.1, gamma=1, kernel=linear;, score=0.998 total time=   0.1s\n",
            "[CV 2/5] END C=100, epsilon=0.1, gamma=1, kernel=linear;, score=0.998 total time=   0.1s\n",
            "[CV 3/5] END C=100, epsilon=0.1, gamma=1, kernel=linear;, score=0.998 total time=   0.1s\n",
            "[CV 4/5] END C=100, epsilon=0.1, gamma=1, kernel=linear;, score=0.998 total time=   0.1s\n",
            "[CV 5/5] END C=100, epsilon=0.1, gamma=1, kernel=linear;, score=0.998 total time=   0.1s\n",
            "[CV 1/5] END C=100, epsilon=0.1, gamma=0.1, kernel=linear;, score=0.998 total time=   0.1s\n",
            "[CV 2/5] END C=100, epsilon=0.1, gamma=0.1, kernel=linear;, score=0.998 total time=   0.1s\n",
            "[CV 3/5] END C=100, epsilon=0.1, gamma=0.1, kernel=linear;, score=0.998 total time=   0.1s\n",
            "[CV 4/5] END C=100, epsilon=0.1, gamma=0.1, kernel=linear;, score=0.998 total time=   0.1s\n",
            "[CV 5/5] END C=100, epsilon=0.1, gamma=0.1, kernel=linear;, score=0.998 total time=   0.1s\n",
            "[CV 1/5] END C=100, epsilon=0.1, gamma=0.01, kernel=linear;, score=0.998 total time=   0.1s\n",
            "[CV 2/5] END C=100, epsilon=0.1, gamma=0.01, kernel=linear;, score=0.998 total time=   0.1s\n",
            "[CV 3/5] END C=100, epsilon=0.1, gamma=0.01, kernel=linear;, score=0.998 total time=   0.1s\n",
            "[CV 4/5] END C=100, epsilon=0.1, gamma=0.01, kernel=linear;, score=0.998 total time=   0.1s\n",
            "[CV 5/5] END C=100, epsilon=0.1, gamma=0.01, kernel=linear;, score=0.998 total time=   0.1s\n",
            "[CV 1/5] END C=100, epsilon=0.1, gamma=0.001, kernel=linear;, score=0.998 total time=   0.1s\n",
            "[CV 2/5] END C=100, epsilon=0.1, gamma=0.001, kernel=linear;, score=0.998 total time=   0.1s\n",
            "[CV 3/5] END C=100, epsilon=0.1, gamma=0.001, kernel=linear;, score=0.998 total time=   0.1s\n",
            "[CV 4/5] END C=100, epsilon=0.1, gamma=0.001, kernel=linear;, score=0.998 total time=   0.1s\n",
            "[CV 5/5] END C=100, epsilon=0.1, gamma=0.001, kernel=linear;, score=0.998 total time=   0.1s\n",
            "[CV 1/5] END C=100, epsilon=0.1, gamma=0.0001, kernel=linear;, score=0.998 total time=   0.1s\n",
            "[CV 2/5] END C=100, epsilon=0.1, gamma=0.0001, kernel=linear;, score=0.998 total time=   0.1s\n",
            "[CV 3/5] END C=100, epsilon=0.1, gamma=0.0001, kernel=linear;, score=0.998 total time=   0.1s\n",
            "[CV 4/5] END C=100, epsilon=0.1, gamma=0.0001, kernel=linear;, score=0.998 total time=   0.1s\n",
            "[CV 5/5] END C=100, epsilon=0.1, gamma=0.0001, kernel=linear;, score=0.998 total time=   0.2s\n",
            "[CV 1/5] END C=100, epsilon=0.2, gamma=1, kernel=linear;, score=0.998 total time=   0.2s\n",
            "[CV 2/5] END C=100, epsilon=0.2, gamma=1, kernel=linear;, score=0.998 total time=   0.3s\n",
            "[CV 3/5] END C=100, epsilon=0.2, gamma=1, kernel=linear;, score=0.998 total time=   0.2s\n",
            "[CV 4/5] END C=100, epsilon=0.2, gamma=1, kernel=linear;, score=0.998 total time=   0.2s\n",
            "[CV 5/5] END C=100, epsilon=0.2, gamma=1, kernel=linear;, score=0.998 total time=   0.2s\n",
            "[CV 1/5] END C=100, epsilon=0.2, gamma=0.1, kernel=linear;, score=0.998 total time=   0.2s\n",
            "[CV 2/5] END C=100, epsilon=0.2, gamma=0.1, kernel=linear;, score=0.998 total time=   0.2s\n",
            "[CV 3/5] END C=100, epsilon=0.2, gamma=0.1, kernel=linear;, score=0.998 total time=   0.2s\n",
            "[CV 4/5] END C=100, epsilon=0.2, gamma=0.1, kernel=linear;, score=0.998 total time=   0.2s\n",
            "[CV 5/5] END C=100, epsilon=0.2, gamma=0.1, kernel=linear;, score=0.998 total time=   0.2s\n",
            "[CV 1/5] END C=100, epsilon=0.2, gamma=0.01, kernel=linear;, score=0.998 total time=   0.2s\n",
            "[CV 2/5] END C=100, epsilon=0.2, gamma=0.01, kernel=linear;, score=0.998 total time=   0.2s\n",
            "[CV 3/5] END C=100, epsilon=0.2, gamma=0.01, kernel=linear;, score=0.998 total time=   0.2s\n",
            "[CV 4/5] END C=100, epsilon=0.2, gamma=0.01, kernel=linear;, score=0.998 total time=   0.2s\n",
            "[CV 5/5] END C=100, epsilon=0.2, gamma=0.01, kernel=linear;, score=0.998 total time=   0.2s\n",
            "[CV 1/5] END C=100, epsilon=0.2, gamma=0.001, kernel=linear;, score=0.998 total time=   0.2s\n",
            "[CV 2/5] END C=100, epsilon=0.2, gamma=0.001, kernel=linear;, score=0.998 total time=   0.2s\n",
            "[CV 3/5] END C=100, epsilon=0.2, gamma=0.001, kernel=linear;, score=0.998 total time=   0.2s\n",
            "[CV 4/5] END C=100, epsilon=0.2, gamma=0.001, kernel=linear;, score=0.998 total time=   0.2s\n",
            "[CV 5/5] END C=100, epsilon=0.2, gamma=0.001, kernel=linear;, score=0.998 total time=   0.2s\n",
            "[CV 1/5] END C=100, epsilon=0.2, gamma=0.0001, kernel=linear;, score=0.998 total time=   0.2s\n",
            "[CV 2/5] END C=100, epsilon=0.2, gamma=0.0001, kernel=linear;, score=0.998 total time=   0.4s\n",
            "[CV 3/5] END C=100, epsilon=0.2, gamma=0.0001, kernel=linear;, score=0.998 total time=   0.3s\n",
            "[CV 4/5] END C=100, epsilon=0.2, gamma=0.0001, kernel=linear;, score=0.998 total time=   0.1s\n",
            "[CV 5/5] END C=100, epsilon=0.2, gamma=0.0001, kernel=linear;, score=0.998 total time=   0.1s\n",
            "[CV 1/5] END C=100, epsilon=0.3, gamma=1, kernel=linear;, score=0.998 total time=   0.1s\n",
            "[CV 2/5] END C=100, epsilon=0.3, gamma=1, kernel=linear;, score=0.998 total time=   0.1s\n",
            "[CV 3/5] END C=100, epsilon=0.3, gamma=1, kernel=linear;, score=0.998 total time=   0.1s\n",
            "[CV 4/5] END C=100, epsilon=0.3, gamma=1, kernel=linear;, score=0.998 total time=   0.1s\n",
            "[CV 5/5] END C=100, epsilon=0.3, gamma=1, kernel=linear;, score=0.998 total time=   0.1s\n",
            "[CV 1/5] END C=100, epsilon=0.3, gamma=0.1, kernel=linear;, score=0.998 total time=   0.1s\n",
            "[CV 2/5] END C=100, epsilon=0.3, gamma=0.1, kernel=linear;, score=0.998 total time=   0.1s\n",
            "[CV 3/5] END C=100, epsilon=0.3, gamma=0.1, kernel=linear;, score=0.998 total time=   0.1s\n",
            "[CV 4/5] END C=100, epsilon=0.3, gamma=0.1, kernel=linear;, score=0.998 total time=   0.1s\n",
            "[CV 5/5] END C=100, epsilon=0.3, gamma=0.1, kernel=linear;, score=0.998 total time=   0.1s\n",
            "[CV 1/5] END C=100, epsilon=0.3, gamma=0.01, kernel=linear;, score=0.998 total time=   0.1s\n",
            "[CV 2/5] END C=100, epsilon=0.3, gamma=0.01, kernel=linear;, score=0.998 total time=   0.1s\n",
            "[CV 3/5] END C=100, epsilon=0.3, gamma=0.01, kernel=linear;, score=0.998 total time=   0.1s\n",
            "[CV 4/5] END C=100, epsilon=0.3, gamma=0.01, kernel=linear;, score=0.998 total time=   0.2s\n",
            "[CV 5/5] END C=100, epsilon=0.3, gamma=0.01, kernel=linear;, score=0.998 total time=   0.2s\n",
            "[CV 1/5] END C=100, epsilon=0.3, gamma=0.001, kernel=linear;, score=0.998 total time=   0.2s\n",
            "[CV 2/5] END C=100, epsilon=0.3, gamma=0.001, kernel=linear;, score=0.998 total time=   0.2s\n",
            "[CV 3/5] END C=100, epsilon=0.3, gamma=0.001, kernel=linear;, score=0.998 total time=   0.2s\n",
            "[CV 4/5] END C=100, epsilon=0.3, gamma=0.001, kernel=linear;, score=0.998 total time=   0.2s\n",
            "[CV 5/5] END C=100, epsilon=0.3, gamma=0.001, kernel=linear;, score=0.998 total time=   0.2s\n",
            "[CV 1/5] END C=100, epsilon=0.3, gamma=0.0001, kernel=linear;, score=0.998 total time=   0.2s\n",
            "[CV 2/5] END C=100, epsilon=0.3, gamma=0.0001, kernel=linear;, score=0.998 total time=   0.2s\n",
            "[CV 3/5] END C=100, epsilon=0.3, gamma=0.0001, kernel=linear;, score=0.998 total time=   0.2s\n",
            "[CV 4/5] END C=100, epsilon=0.3, gamma=0.0001, kernel=linear;, score=0.998 total time=   0.2s\n",
            "[CV 5/5] END C=100, epsilon=0.3, gamma=0.0001, kernel=linear;, score=0.998 total time=   0.2s\n",
            "[CV 1/5] END C=1000, epsilon=0.1, gamma=1, kernel=linear;, score=0.998 total time=   1.0s\n",
            "[CV 2/5] END C=1000, epsilon=0.1, gamma=1, kernel=linear;, score=0.998 total time=   0.6s\n",
            "[CV 3/5] END C=1000, epsilon=0.1, gamma=1, kernel=linear;, score=0.998 total time=   0.6s\n",
            "[CV 4/5] END C=1000, epsilon=0.1, gamma=1, kernel=linear;, score=0.998 total time=   0.6s\n",
            "[CV 5/5] END C=1000, epsilon=0.1, gamma=1, kernel=linear;, score=0.998 total time=   0.6s\n",
            "[CV 1/5] END C=1000, epsilon=0.1, gamma=0.1, kernel=linear;, score=0.998 total time=   0.6s\n",
            "[CV 2/5] END C=1000, epsilon=0.1, gamma=0.1, kernel=linear;, score=0.998 total time=   0.6s\n",
            "[CV 3/5] END C=1000, epsilon=0.1, gamma=0.1, kernel=linear;, score=0.998 total time=   0.6s\n",
            "[CV 4/5] END C=1000, epsilon=0.1, gamma=0.1, kernel=linear;, score=0.998 total time=   0.6s\n",
            "[CV 5/5] END C=1000, epsilon=0.1, gamma=0.1, kernel=linear;, score=0.998 total time=   0.6s\n",
            "[CV 1/5] END C=1000, epsilon=0.1, gamma=0.01, kernel=linear;, score=0.998 total time=   0.6s\n",
            "[CV 2/5] END C=1000, epsilon=0.1, gamma=0.01, kernel=linear;, score=0.998 total time=   0.6s\n",
            "[CV 3/5] END C=1000, epsilon=0.1, gamma=0.01, kernel=linear;, score=0.998 total time=   0.6s\n",
            "[CV 4/5] END C=1000, epsilon=0.1, gamma=0.01, kernel=linear;, score=0.998 total time=   0.6s\n",
            "[CV 5/5] END C=1000, epsilon=0.1, gamma=0.01, kernel=linear;, score=0.998 total time=   0.8s\n",
            "[CV 1/5] END C=1000, epsilon=0.1, gamma=0.001, kernel=linear;, score=0.998 total time=   0.9s\n",
            "[CV 2/5] END C=1000, epsilon=0.1, gamma=0.001, kernel=linear;, score=0.998 total time=   1.0s\n",
            "[CV 3/5] END C=1000, epsilon=0.1, gamma=0.001, kernel=linear;, score=0.998 total time=   1.4s\n",
            "[CV 4/5] END C=1000, epsilon=0.1, gamma=0.001, kernel=linear;, score=0.998 total time=   1.5s\n",
            "[CV 5/5] END C=1000, epsilon=0.1, gamma=0.001, kernel=linear;, score=0.998 total time=   1.6s\n",
            "[CV 1/5] END C=1000, epsilon=0.1, gamma=0.0001, kernel=linear;, score=0.998 total time=   0.9s\n",
            "[CV 2/5] END C=1000, epsilon=0.1, gamma=0.0001, kernel=linear;, score=0.998 total time=   1.1s\n",
            "[CV 3/5] END C=1000, epsilon=0.1, gamma=0.0001, kernel=linear;, score=0.998 total time=   0.8s\n",
            "[CV 4/5] END C=1000, epsilon=0.1, gamma=0.0001, kernel=linear;, score=0.998 total time=   0.6s\n",
            "[CV 5/5] END C=1000, epsilon=0.1, gamma=0.0001, kernel=linear;, score=0.998 total time=   0.6s\n",
            "[CV 1/5] END C=1000, epsilon=0.2, gamma=1, kernel=linear;, score=0.998 total time=   0.6s\n",
            "[CV 2/5] END C=1000, epsilon=0.2, gamma=1, kernel=linear;, score=0.998 total time=   0.6s\n",
            "[CV 3/5] END C=1000, epsilon=0.2, gamma=1, kernel=linear;, score=0.998 total time=   0.7s\n",
            "[CV 4/5] END C=1000, epsilon=0.2, gamma=1, kernel=linear;, score=0.998 total time=   0.6s\n",
            "[CV 5/5] END C=1000, epsilon=0.2, gamma=1, kernel=linear;, score=0.998 total time=   0.6s\n",
            "[CV 1/5] END C=1000, epsilon=0.2, gamma=0.1, kernel=linear;, score=0.998 total time=   0.6s\n",
            "[CV 2/5] END C=1000, epsilon=0.2, gamma=0.1, kernel=linear;, score=0.998 total time=   0.6s\n",
            "[CV 3/5] END C=1000, epsilon=0.2, gamma=0.1, kernel=linear;, score=0.998 total time=   0.7s\n",
            "[CV 4/5] END C=1000, epsilon=0.2, gamma=0.1, kernel=linear;, score=0.998 total time=   0.6s\n",
            "[CV 5/5] END C=1000, epsilon=0.2, gamma=0.1, kernel=linear;, score=0.998 total time=   0.7s\n",
            "[CV 1/5] END C=1000, epsilon=0.2, gamma=0.01, kernel=linear;, score=0.998 total time=   1.1s\n",
            "[CV 2/5] END C=1000, epsilon=0.2, gamma=0.01, kernel=linear;, score=0.998 total time=   1.1s\n",
            "[CV 3/5] END C=1000, epsilon=0.2, gamma=0.01, kernel=linear;, score=0.998 total time=   1.2s\n",
            "[CV 4/5] END C=1000, epsilon=0.2, gamma=0.01, kernel=linear;, score=0.998 total time=   0.6s\n",
            "[CV 5/5] END C=1000, epsilon=0.2, gamma=0.01, kernel=linear;, score=0.998 total time=   0.6s\n",
            "[CV 1/5] END C=1000, epsilon=0.2, gamma=0.001, kernel=linear;, score=0.998 total time=   0.6s\n",
            "[CV 2/5] END C=1000, epsilon=0.2, gamma=0.001, kernel=linear;, score=0.998 total time=   0.6s\n",
            "[CV 3/5] END C=1000, epsilon=0.2, gamma=0.001, kernel=linear;, score=0.998 total time=   0.6s\n",
            "[CV 4/5] END C=1000, epsilon=0.2, gamma=0.001, kernel=linear;, score=0.998 total time=   0.6s\n",
            "[CV 5/5] END C=1000, epsilon=0.2, gamma=0.001, kernel=linear;, score=0.998 total time=   0.6s\n",
            "[CV 1/5] END C=1000, epsilon=0.2, gamma=0.0001, kernel=linear;, score=0.998 total time=   0.6s\n",
            "[CV 2/5] END C=1000, epsilon=0.2, gamma=0.0001, kernel=linear;, score=0.998 total time=   0.6s\n",
            "[CV 3/5] END C=1000, epsilon=0.2, gamma=0.0001, kernel=linear;, score=0.998 total time=   0.6s\n",
            "[CV 4/5] END C=1000, epsilon=0.2, gamma=0.0001, kernel=linear;, score=0.998 total time=   0.6s\n",
            "[CV 5/5] END C=1000, epsilon=0.2, gamma=0.0001, kernel=linear;, score=0.998 total time=   0.6s\n",
            "[CV 1/5] END C=1000, epsilon=0.3, gamma=1, kernel=linear;, score=0.998 total time=   0.6s\n",
            "[CV 2/5] END C=1000, epsilon=0.3, gamma=1, kernel=linear;, score=0.998 total time=   0.5s\n",
            "[CV 3/5] END C=1000, epsilon=0.3, gamma=1, kernel=linear;, score=0.998 total time=   0.7s\n",
            "[CV 4/5] END C=1000, epsilon=0.3, gamma=1, kernel=linear;, score=0.998 total time=   0.6s\n",
            "[CV 5/5] END C=1000, epsilon=0.3, gamma=1, kernel=linear;, score=0.998 total time=   0.9s\n",
            "[CV 1/5] END C=1000, epsilon=0.3, gamma=0.1, kernel=linear;, score=0.998 total time=   1.1s\n",
            "[CV 2/5] END C=1000, epsilon=0.3, gamma=0.1, kernel=linear;, score=0.998 total time=   1.0s\n",
            "[CV 3/5] END C=1000, epsilon=0.3, gamma=0.1, kernel=linear;, score=0.998 total time=   1.2s\n",
            "[CV 4/5] END C=1000, epsilon=0.3, gamma=0.1, kernel=linear;, score=0.998 total time=   0.5s\n",
            "[CV 5/5] END C=1000, epsilon=0.3, gamma=0.1, kernel=linear;, score=0.998 total time=   0.6s\n",
            "[CV 1/5] END C=1000, epsilon=0.3, gamma=0.01, kernel=linear;, score=0.998 total time=   0.6s\n",
            "[CV 2/5] END C=1000, epsilon=0.3, gamma=0.01, kernel=linear;, score=0.998 total time=   0.6s\n",
            "[CV 3/5] END C=1000, epsilon=0.3, gamma=0.01, kernel=linear;, score=0.998 total time=   0.7s\n",
            "[CV 4/5] END C=1000, epsilon=0.3, gamma=0.01, kernel=linear;, score=0.998 total time=   0.6s\n",
            "[CV 5/5] END C=1000, epsilon=0.3, gamma=0.01, kernel=linear;, score=0.998 total time=   0.6s\n",
            "[CV 1/5] END C=1000, epsilon=0.3, gamma=0.001, kernel=linear;, score=0.998 total time=   0.6s\n",
            "[CV 2/5] END C=1000, epsilon=0.3, gamma=0.001, kernel=linear;, score=0.998 total time=   0.6s\n",
            "[CV 3/5] END C=1000, epsilon=0.3, gamma=0.001, kernel=linear;, score=0.998 total time=   0.7s\n",
            "[CV 4/5] END C=1000, epsilon=0.3, gamma=0.001, kernel=linear;, score=0.998 total time=   0.6s\n",
            "[CV 5/5] END C=1000, epsilon=0.3, gamma=0.001, kernel=linear;, score=0.998 total time=   0.6s\n",
            "[CV 1/5] END C=1000, epsilon=0.3, gamma=0.0001, kernel=linear;, score=0.998 total time=   0.6s\n",
            "[CV 2/5] END C=1000, epsilon=0.3, gamma=0.0001, kernel=linear;, score=0.998 total time=   0.5s\n",
            "[CV 3/5] END C=1000, epsilon=0.3, gamma=0.0001, kernel=linear;, score=0.998 total time=   0.7s\n",
            "[CV 4/5] END C=1000, epsilon=0.3, gamma=0.0001, kernel=linear;, score=0.998 total time=   0.6s\n",
            "[CV 5/5] END C=1000, epsilon=0.3, gamma=0.0001, kernel=linear;, score=0.998 total time=   0.8s\n"
          ]
        },
        {
          "output_type": "execute_result",
          "data": {
            "text/plain": [
              "GridSearchCV(cv=5, estimator=SVR(),\n",
              "             param_grid={'C': [0.1, 1, 10, 100, 1000],\n",
              "                         'epsilon': [0.1, 0.2, 0.3],\n",
              "                         'gamma': [1, 0.1, 0.01, 0.001, 0.0001],\n",
              "                         'kernel': ['linear']},\n",
              "             verbose=3)"
            ],
            "text/html": [
              "<style>#sk-container-id-4 {color: black;background-color: white;}#sk-container-id-4 pre{padding: 0;}#sk-container-id-4 div.sk-toggleable {background-color: white;}#sk-container-id-4 label.sk-toggleable__label {cursor: pointer;display: block;width: 100%;margin-bottom: 0;padding: 0.3em;box-sizing: border-box;text-align: center;}#sk-container-id-4 label.sk-toggleable__label-arrow:before {content: \"▸\";float: left;margin-right: 0.25em;color: #696969;}#sk-container-id-4 label.sk-toggleable__label-arrow:hover:before {color: black;}#sk-container-id-4 div.sk-estimator:hover label.sk-toggleable__label-arrow:before {color: black;}#sk-container-id-4 div.sk-toggleable__content {max-height: 0;max-width: 0;overflow: hidden;text-align: left;background-color: #f0f8ff;}#sk-container-id-4 div.sk-toggleable__content pre {margin: 0.2em;color: black;border-radius: 0.25em;background-color: #f0f8ff;}#sk-container-id-4 input.sk-toggleable__control:checked~div.sk-toggleable__content {max-height: 200px;max-width: 100%;overflow: auto;}#sk-container-id-4 input.sk-toggleable__control:checked~label.sk-toggleable__label-arrow:before {content: \"▾\";}#sk-container-id-4 div.sk-estimator input.sk-toggleable__control:checked~label.sk-toggleable__label {background-color: #d4ebff;}#sk-container-id-4 div.sk-label input.sk-toggleable__control:checked~label.sk-toggleable__label {background-color: #d4ebff;}#sk-container-id-4 input.sk-hidden--visually {border: 0;clip: rect(1px 1px 1px 1px);clip: rect(1px, 1px, 1px, 1px);height: 1px;margin: -1px;overflow: hidden;padding: 0;position: absolute;width: 1px;}#sk-container-id-4 div.sk-estimator {font-family: monospace;background-color: #f0f8ff;border: 1px dotted black;border-radius: 0.25em;box-sizing: border-box;margin-bottom: 0.5em;}#sk-container-id-4 div.sk-estimator:hover {background-color: #d4ebff;}#sk-container-id-4 div.sk-parallel-item::after {content: \"\";width: 100%;border-bottom: 1px solid gray;flex-grow: 1;}#sk-container-id-4 div.sk-label:hover label.sk-toggleable__label {background-color: #d4ebff;}#sk-container-id-4 div.sk-serial::before {content: \"\";position: absolute;border-left: 1px solid gray;box-sizing: border-box;top: 0;bottom: 0;left: 50%;z-index: 0;}#sk-container-id-4 div.sk-serial {display: flex;flex-direction: column;align-items: center;background-color: white;padding-right: 0.2em;padding-left: 0.2em;position: relative;}#sk-container-id-4 div.sk-item {position: relative;z-index: 1;}#sk-container-id-4 div.sk-parallel {display: flex;align-items: stretch;justify-content: center;background-color: white;position: relative;}#sk-container-id-4 div.sk-item::before, #sk-container-id-4 div.sk-parallel-item::before {content: \"\";position: absolute;border-left: 1px solid gray;box-sizing: border-box;top: 0;bottom: 0;left: 50%;z-index: -1;}#sk-container-id-4 div.sk-parallel-item {display: flex;flex-direction: column;z-index: 1;position: relative;background-color: white;}#sk-container-id-4 div.sk-parallel-item:first-child::after {align-self: flex-end;width: 50%;}#sk-container-id-4 div.sk-parallel-item:last-child::after {align-self: flex-start;width: 50%;}#sk-container-id-4 div.sk-parallel-item:only-child::after {width: 0;}#sk-container-id-4 div.sk-dashed-wrapped {border: 1px dashed gray;margin: 0 0.4em 0.5em 0.4em;box-sizing: border-box;padding-bottom: 0.4em;background-color: white;}#sk-container-id-4 div.sk-label label {font-family: monospace;font-weight: bold;display: inline-block;line-height: 1.2em;}#sk-container-id-4 div.sk-label-container {text-align: center;}#sk-container-id-4 div.sk-container {/* jupyter's `normalize.less` sets `[hidden] { display: none; }` but bootstrap.min.css set `[hidden] { display: none !important; }` so we also need the `!important` here to be able to override the default hidden behavior on the sphinx rendered scikit-learn.org. See: https://github.com/scikit-learn/scikit-learn/issues/21755 */display: inline-block !important;position: relative;}#sk-container-id-4 div.sk-text-repr-fallback {display: none;}</style><div id=\"sk-container-id-4\" class=\"sk-top-container\"><div class=\"sk-text-repr-fallback\"><pre>GridSearchCV(cv=5, estimator=SVR(),\n",
              "             param_grid={&#x27;C&#x27;: [0.1, 1, 10, 100, 1000],\n",
              "                         &#x27;epsilon&#x27;: [0.1, 0.2, 0.3],\n",
              "                         &#x27;gamma&#x27;: [1, 0.1, 0.01, 0.001, 0.0001],\n",
              "                         &#x27;kernel&#x27;: [&#x27;linear&#x27;]},\n",
              "             verbose=3)</pre><b>In a Jupyter environment, please rerun this cell to show the HTML representation or trust the notebook. <br />On GitHub, the HTML representation is unable to render, please try loading this page with nbviewer.org.</b></div><div class=\"sk-container\" hidden><div class=\"sk-item sk-dashed-wrapped\"><div class=\"sk-label-container\"><div class=\"sk-label sk-toggleable\"><input class=\"sk-toggleable__control sk-hidden--visually\" id=\"sk-estimator-id-6\" type=\"checkbox\" ><label for=\"sk-estimator-id-6\" class=\"sk-toggleable__label sk-toggleable__label-arrow\">GridSearchCV</label><div class=\"sk-toggleable__content\"><pre>GridSearchCV(cv=5, estimator=SVR(),\n",
              "             param_grid={&#x27;C&#x27;: [0.1, 1, 10, 100, 1000],\n",
              "                         &#x27;epsilon&#x27;: [0.1, 0.2, 0.3],\n",
              "                         &#x27;gamma&#x27;: [1, 0.1, 0.01, 0.001, 0.0001],\n",
              "                         &#x27;kernel&#x27;: [&#x27;linear&#x27;]},\n",
              "             verbose=3)</pre></div></div></div><div class=\"sk-parallel\"><div class=\"sk-parallel-item\"><div class=\"sk-item\"><div class=\"sk-label-container\"><div class=\"sk-label sk-toggleable\"><input class=\"sk-toggleable__control sk-hidden--visually\" id=\"sk-estimator-id-7\" type=\"checkbox\" ><label for=\"sk-estimator-id-7\" class=\"sk-toggleable__label sk-toggleable__label-arrow\">estimator: SVR</label><div class=\"sk-toggleable__content\"><pre>SVR()</pre></div></div></div><div class=\"sk-serial\"><div class=\"sk-item\"><div class=\"sk-estimator sk-toggleable\"><input class=\"sk-toggleable__control sk-hidden--visually\" id=\"sk-estimator-id-8\" type=\"checkbox\" ><label for=\"sk-estimator-id-8\" class=\"sk-toggleable__label sk-toggleable__label-arrow\">SVR</label><div class=\"sk-toggleable__content\"><pre>SVR()</pre></div></div></div></div></div></div></div></div></div></div>"
            ]
          },
          "metadata": {},
          "execution_count": 49
        }
      ]
    },
    {
      "cell_type": "code",
      "source": [
        "grid.best_params_"
      ],
      "metadata": {
        "colab": {
          "base_uri": "https://localhost:8080/"
        },
        "id": "HHPn_KbUUeLx",
        "outputId": "0582c80b-a723-4f86-ed88-2830b372240d"
      },
      "execution_count": 50,
      "outputs": [
        {
          "output_type": "execute_result",
          "data": {
            "text/plain": [
              "{'C': 1000, 'epsilon': 0.2, 'gamma': 1, 'kernel': 'linear'}"
            ]
          },
          "metadata": {},
          "execution_count": 50
        }
      ]
    },
    {
      "cell_type": "code",
      "source": [
        "## Prediction\n",
        "y_pred4=grid.predict(X_test)\n",
        "print(r2_score(y_test,y_pred4))"
      ],
      "metadata": {
        "colab": {
          "base_uri": "https://localhost:8080/"
        },
        "id": "YR2hr_EUU1QH",
        "outputId": "7adc348f-c283-4dfd-9f5c-2f036586efee"
      },
      "execution_count": 51,
      "outputs": [
        {
          "output_type": "stream",
          "name": "stdout",
          "text": [
            "0.9973499626171481\n"
          ]
        }
      ]
    }
  ]
}